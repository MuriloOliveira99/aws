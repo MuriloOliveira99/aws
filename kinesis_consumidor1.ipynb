{
  "nbformat": 4,
  "nbformat_minor": 0,
  "metadata": {
    "colab": {
      "provenance": [],
      "collapsed_sections": []
    },
    "kernelspec": {
      "name": "python3",
      "display_name": "Python 3"
    },
    "language_info": {
      "name": "python"
    }
  },
  "cells": [
    {
      "cell_type": "code",
      "execution_count": null,
      "metadata": {
        "colab": {
          "base_uri": "https://localhost:8080/"
        },
        "id": "EsJ8iWT5et5-",
        "outputId": "43ba59c5-5a74-4649-ebc3-8ef732a4e767"
      },
      "outputs": [
        {
          "output_type": "stream",
          "name": "stdout",
          "text": [
            "Looking in indexes: https://pypi.org/simple, https://us-python.pkg.dev/colab-wheels/public/simple/\n",
            "Collecting boto3\n",
            "  Downloading boto3-1.24.89-py3-none-any.whl (132 kB)\n",
            "\u001b[K     |████████████████████████████████| 132 kB 7.8 MB/s \n",
            "\u001b[?25hCollecting s3transfer<0.7.0,>=0.6.0\n",
            "  Downloading s3transfer-0.6.0-py3-none-any.whl (79 kB)\n",
            "\u001b[K     |████████████████████████████████| 79 kB 7.8 MB/s \n",
            "\u001b[?25hCollecting botocore<1.28.0,>=1.27.89\n",
            "  Downloading botocore-1.27.89-py3-none-any.whl (9.2 MB)\n",
            "\u001b[K     |████████████████████████████████| 9.2 MB 43.2 MB/s \n",
            "\u001b[?25hCollecting jmespath<2.0.0,>=0.7.1\n",
            "  Downloading jmespath-1.0.1-py3-none-any.whl (20 kB)\n",
            "Requirement already satisfied: python-dateutil<3.0.0,>=2.1 in /usr/local/lib/python3.7/dist-packages (from botocore<1.28.0,>=1.27.89->boto3) (2.8.2)\n",
            "Collecting urllib3<1.27,>=1.25.4\n",
            "  Downloading urllib3-1.26.12-py2.py3-none-any.whl (140 kB)\n",
            "\u001b[K     |████████████████████████████████| 140 kB 59.6 MB/s \n",
            "\u001b[?25hRequirement already satisfied: six>=1.5 in /usr/local/lib/python3.7/dist-packages (from python-dateutil<3.0.0,>=2.1->botocore<1.28.0,>=1.27.89->boto3) (1.15.0)\n",
            "Installing collected packages: urllib3, jmespath, botocore, s3transfer, boto3\n",
            "  Attempting uninstall: urllib3\n",
            "    Found existing installation: urllib3 1.24.3\n",
            "    Uninstalling urllib3-1.24.3:\n",
            "      Successfully uninstalled urllib3-1.24.3\n",
            "\u001b[31mERROR: pip's dependency resolver does not currently take into account all the packages that are installed. This behaviour is the source of the following dependency conflicts.\n",
            "requests 2.23.0 requires urllib3!=1.25.0,!=1.25.1,<1.26,>=1.21.1, but you have urllib3 1.26.12 which is incompatible.\u001b[0m\n",
            "Successfully installed boto3-1.24.89 botocore-1.27.89 jmespath-1.0.1 s3transfer-0.6.0 urllib3-1.26.12\n"
          ]
        }
      ],
      "source": [
        "!pip install boto3"
      ]
    },
    {
      "cell_type": "code",
      "source": [
        "import boto3"
      ],
      "metadata": {
        "id": "1FNR5yzbi7OI"
      },
      "execution_count": null,
      "outputs": []
    },
    {
      "cell_type": "code",
      "source": [
        "# cliente boto3\n",
        "cliente = boto3.client('kinesis', \n",
        "                       aws_access_key_id = '',\n",
        "                       aws_secret_access_key = '',\n",
        "                       aws_session_token = '',\n",
        "                       region_name = 'us-east-1'\n",
        "                       )"
      ],
      "metadata": {
        "id": "Agc2nLFfi5vN"
      },
      "execution_count": null,
      "outputs": []
    },
    {
      "cell_type": "code",
      "source": [
        "shard = cliente.get_shard_iterator(\n",
        "    StreamName = 'stream1',\n",
        "    ShardId = 'shardId-000000000002',\n",
        "    ShardIteratorType = 'LATEST'\n",
        ")['ShardIterator']"
      ],
      "metadata": {
        "id": "cV-Xcghci-dV"
      },
      "execution_count": null,
      "outputs": []
    },
    {
      "cell_type": "markdown",
      "source": [
        "### monitorando o arquivo 'Produtor'"
      ],
      "metadata": {
        "id": "cCSDGRk6kdvO"
      }
    },
    {
      "cell_type": "code",
      "source": [
        "while shard is not None:\n",
        "  resultado = cliente.get_records(ShardIterator=shard)\n",
        "  registros = resultado['Records']\n",
        "  shard = resultado['NextShardIterator']\n",
        "\n",
        "  for registro in registros:\n",
        "    print(registro['SequenceNumber'])\n",
        "    print(registro['ApproximateArrivalTimestamp'])\n",
        "    print(registro['PartitionKey'])\n",
        "    print(registro['Data'])\n",
        "\n",
        "# AO EXECUTAR O ARQUIVO 'Produtor' o while retornou o seguinte resultado:\n",
        "\n",
        "# 49634067578226152648669519086388060069762511365411438626\n",
        "# 2022-10-09 16:26:56.683000+00:00\n",
        "# 02\n",
        "# b'{\"idvendedor\": \"999\", \"nome\": \"Murilo\"}'"
      ],
      "metadata": {
        "id": "BtxvRw9AjnID"
      },
      "execution_count": null,
      "outputs": []
    }
  ]
}