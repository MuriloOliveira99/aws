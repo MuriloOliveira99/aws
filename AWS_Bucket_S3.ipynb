{
  "nbformat": 4,
  "nbformat_minor": 0,
  "metadata": {
    "colab": {
      "name": "AWS_Bucket_S3.ipynb",
      "provenance": []
    },
    "kernelspec": {
      "name": "python3",
      "display_name": "Python 3"
    },
    "language_info": {
      "name": "python"
    }
  },
  "cells": [
    {
      "cell_type": "markdown",
      "source": [
        "#Objetivo\n",
        "Realizar um fluxo de dados entre dois buckets (s3) utilizando Python\n"
      ],
      "metadata": {
        "id": "qE_sDWM2Vs61"
      }
    },
    {
      "cell_type": "markdown",
      "source": [
        "#Exercicio 1: \n",
        "###Buscar dados do bucket chamado-tecnico-ac3 e gravar no bucket"
      ],
      "metadata": {
        "id": "ZWlJtQ1y_4iK"
      }
    },
    {
      "cell_type": "code",
      "execution_count": null,
      "metadata": {
        "id": "bSNkLNxQ66xq"
      },
      "outputs": [],
      "source": [
        "%%sh\n",
        "sudo pip install pyodbc\n",
        "sudo pip install sqlalchemy\n",
        "sudo pip install pymysql\n",
        "sudo pip install mysqlclient\n",
        "sudo pip install boto3\n",
        "sudo pip install s3fs"
      ]
    },
    {
      "cell_type": "code",
      "source": [
        "#Importar bibliotecas para ambiente de trabalho\n",
        "import sqlalchemy, pyodbc, boto3, s3fs, pandas as pd"
      ],
      "metadata": {
        "id": "a86IpRxS7FJO"
      },
      "execution_count": null,
      "outputs": []
    },
    {
      "cell_type": "code",
      "source": [
        "#Credenciais acesso ao aws \n",
        "aws_access_key_id_prof = ''\n",
        "aws_secret_access_key_prof = ''\n",
        "aws_session_token_prof = ''"
      ],
      "metadata": {
        "id": "xVdVHvza8whS"
      },
      "execution_count": null,
      "outputs": []
    },
    {
      "cell_type": "code",
      "source": [
        "#Criar recurso aws prof\n",
        "resource_s3_prof = boto3.resource('s3', aws_access_key_id = aws_access_key_id_prof,\n",
        "                       aws_secret_access_key = aws_secret_access_key_prof,\n",
        "                       aws_session_token = aws_session_token_prof, use_ssl=False)\n",
        "\n",
        "bucket_professor = resource_s3_prof.Bucket(\"chamado-tecnico-ac3\")"
      ],
      "metadata": {
        "id": "-FXfklr0Aahd"
      },
      "execution_count": null,
      "outputs": []
    },
    {
      "cell_type": "code",
      "source": [
        "#Subir um arquivo de exemplo\n",
        "bucket_professor.download_file(Key=\"chamados/chamado.csv\",Filename=\"chamados/chamado.csv\")"
      ],
      "metadata": {
        "id": "ekLd5bKEAzBo"
      },
      "execution_count": null,
      "outputs": []
    },
    {
      "cell_type": "code",
      "source": [
        "#Credenciais de acesso ao bucket de destino\n",
        "aws_access_key_id_destino = ''\n",
        "aws_secret_access_key_destino = ''\n",
        "aws_session_token_destino = ''"
      ],
      "metadata": {
        "id": "EoXMmZM_BDEg"
      },
      "execution_count": null,
      "outputs": []
    },
    {
      "cell_type": "code",
      "source": [
        "#cliente para criar um novo bucket\n",
        "client_s3 = boto3.client('s3',\n",
        "                      aws_access_key_id = aws_access_key_id_destino,\n",
        "                      aws_secret_access_key = aws_secret_access_key_destino,\n",
        "                      aws_session_token = aws_session_token_destino, use_ssl=False)\n",
        "\n",
        "nome_bucket = \"chamado-tecnico-1201555\"\n",
        "client_s3.create_bucket(Bucket=nome_bucket)"
      ],
      "metadata": {
        "id": "lbj1X7TyBU3w"
      },
      "execution_count": null,
      "outputs": []
    },
    {
      "cell_type": "code",
      "source": [
        "#Criar recurso aws bucket destino\n",
        "resource_s3_prof = boto3.resource('s3', aws_access_key_id = aws_access_key_id_destino,\n",
        "                       aws_secret_access_key = aws_secret_access_key_destino,\n",
        "                       aws_session_token = aws_session_token_destino, use_ssl=False)\n",
        "\n",
        "bucket_destino = resource_s3_prof.Bucket(\"chamado-tecnico-1201555\")"
      ],
      "metadata": {
        "id": "K_rDP8XACIf8"
      },
      "execution_count": null,
      "outputs": []
    },
    {
      "cell_type": "code",
      "source": [
        "#subir dados para bucket destino manual\n",
        "bucket_destino.upload_file(Key=\"chamados/chamado.csv\",Filename=\"chamados/chamado.csv\")"
      ],
      "metadata": {
        "id": "UE0d_vhTCNf7"
      },
      "execution_count": null,
      "outputs": []
    },
    {
      "cell_type": "code",
      "source": [
        "#cliente banco professor, para buscar metadados\n",
        "client_s3_prof = boto3.client('s3',\n",
        "                      aws_access_key_id = aws_access_key_id_prof,\n",
        "                      aws_secret_access_key = aws_secret_access_key_prof,\n",
        "                      aws_session_token = aws_session_token_prof, use_ssl=False)\n",
        "client_s3_prof.list_buckets()"
      ],
      "metadata": {
        "id": "zTDVJXlTDFjd"
      },
      "execution_count": null,
      "outputs": []
    },
    {
      "cell_type": "code",
      "source": [
        "#Cria lista com contents\n",
        "contents = client_s3_prof.list_objects(Bucket = 'chamado-tecnico-ac3').get(\"Contents\")\n",
        "#Filtra arquivos com .csv em uma nova lista\n",
        "lista_arquivos = [i.get(\"Key\") for i in contents if \".csv\" in i.get(\"Key\")]\n",
        "\n",
        "#grava dados do bucket professor na pasta intermediario e depois da pasta intermediario para destino\n",
        "for i in lista_arquivos:\n",
        "  arquivo = i\n",
        "  diretorio = i.replace(\"chamados\",\"intermediario\")\n",
        "  print(arquivo,diretorio)\n",
        "  bucket_professor.download_file(Key=arquivo, Filename=diretorio)\n",
        "  bucket_destino.upload_file(Key=arquivo, Filename=diretorio)"
      ],
      "metadata": {
        "colab": {
          "base_uri": "https://localhost:8080/"
        },
        "id": "qO_NF74wEeCk",
        "outputId": "0df48e9a-9653-43db-d58c-bc9ea3659fd0"
      },
      "execution_count": null,
      "outputs": [
        {
          "output_type": "stream",
          "name": "stdout",
          "text": [
            "chamados/categoria.csv intermediario/categoria.csv\n",
            "chamados/chamado.csv intermediario/chamado.csv\n",
            "chamados/cidade.csv intermediario/cidade.csv\n",
            "chamados/clientes.csv intermediario/clientes.csv\n",
            "chamados/equipes.csv intermediario/equipes.csv\n",
            "chamados/estado.csv intermediario/estado.csv\n",
            "chamados/setor.csv intermediario/setor.csv\n",
            "chamados/tipo.csv intermediario/tipo.csv\n",
            "chamados/unidade.csv intermediario/unidade.csv\n",
            "chamados/venda.csv intermediario/venda.csv\n"
          ]
        }
      ]
    },
    {
      "cell_type": "code",
      "source": [
        "def troca_arquivos_bucket(bucket_fonte,bucket_destino,arquivo):\n",
        "  bucket_fonte.download_file(Key=arquivo, Filename=arquivo)\n",
        "  bucket_destino.upload_file(Key=arquivo, Filename=arquivo)"
      ],
      "metadata": {
        "id": "Tp8Wa2KoH10f"
      },
      "execution_count": null,
      "outputs": []
    },
    {
      "cell_type": "code",
      "source": [
        "#Usando uma função para modularizar o codigo\n",
        "#Cria lista com contents\n",
        "contents = client_s3_prof.list_objects(Bucket = 'chamado-tecnico-ac3').get(\"Contents\")\n",
        "#Filtra arquivos com .csv em uma nova lista\n",
        "lista_arquivos = [i.get(\"Key\") for i in contents if \".csv\" in i.get(\"Key\")]\n",
        "\n",
        "#grava dados do bucket professor na pasta intermediario e depois da pasta intermediario para destino\n",
        "for i in lista_arquivos:\n",
        "  arquivo = i   \n",
        "  troca_arquivos_bucket(bucket_fonte = bucket_professor, bucket_destino=bucket_destino,arquivo=i)"
      ],
      "metadata": {
        "id": "yWRowNJ1H1-s"
      },
      "execution_count": null,
      "outputs": []
    },
    {
      "cell_type": "code",
      "source": [
        "[troca_arquivos_bucket(bucket_fonte = bucket_professor, bucket_destino=bucket_destino,arquivo=i.get(\"Key\")) for i in contents if \".csv\" in i.get(\"Key\")]   "
      ],
      "metadata": {
        "id": "78z0KyPUH2IO"
      },
      "execution_count": null,
      "outputs": []
    },
    {
      "cell_type": "markdown",
      "source": [
        "Usando o s3fs\n"
      ],
      "metadata": {
        "id": "31eN7ZYeOozK"
      }
    },
    {
      "cell_type": "code",
      "source": [
        "#Subindo manualmente\n",
        "fs_prof = s3fs.S3FileSystem(key=aws_access_key_id_prof,\n",
        "                       secret=aws_secret_access_key_prof,\n",
        "                       token =aws_session_token_prof)\n",
        "\n",
        "#Criando um objeto do tipo s3fs.\n",
        "fs_dest = s3fs.S3FileSystem(key=aws_access_key_id_destino,\n",
        "                       secret=aws_secret_access_key_destino,\n",
        "                       token =aws_session_token_destino)"
      ],
      "metadata": {
        "id": "7vfR3mqpH2Tc"
      },
      "execution_count": null,
      "outputs": []
    },
    {
      "cell_type": "code",
      "source": [
        "#Subindo manualmente\n",
        "arquivo = fs_prof.open(\"chamado-tecnico-ac3/chamados/chamado.csv\")\n",
        "df = pd.read_csv(arquivo,delimiter=';')\n",
        "with fs_dest.open(\"chamado-tecnico-1201555/chamados_2/chamado.csv\",mode=\"w\") as f:\n",
        "  df.to_csv(f)\n"
      ],
      "metadata": {
        "colab": {
          "base_uri": "https://localhost:8080/"
        },
        "id": "CjYoEB8aQxa1",
        "outputId": "452972a4-8616-48d3-ac33-5f937f5607c0"
      },
      "execution_count": null,
      "outputs": [
        {
          "output_type": "execute_result",
          "data": {
            "text/plain": [
              "['chamado-tecnico-ac3/chamados/categoria.csv',\n",
              " 'chamado-tecnico-ac3/chamados/chamado.csv',\n",
              " 'chamado-tecnico-ac3/chamados/cidade.csv',\n",
              " 'chamado-tecnico-ac3/chamados/clientes.csv',\n",
              " 'chamado-tecnico-ac3/chamados/equipes.csv',\n",
              " 'chamado-tecnico-ac3/chamados/estado.csv',\n",
              " 'chamado-tecnico-ac3/chamados/setor.csv',\n",
              " 'chamado-tecnico-ac3/chamados/tipo.csv',\n",
              " 'chamado-tecnico-ac3/chamados/unidade.csv',\n",
              " 'chamado-tecnico-ac3/chamados/venda.csv']"
            ]
          },
          "metadata": {},
          "execution_count": 85
        }
      ]
    },
    {
      "cell_type": "code",
      "source": [
        "#Subind dinamico\n",
        "\n",
        "#cria a lista de arquivos\n",
        "contents = fs_prof.listdir(\"chamado-tecnico-ac3/chamados\")\n",
        "lista_arquivos = [i.get(\"Key\") for i in contents if \".csv\" in i.get(\"Key\")]\n",
        "for i  in lista_arquivos:\n",
        "  arquivo = fs_prof.open(i)\n",
        "  df = pd.read_csv(arquivo,delimiter=';')\n",
        "  with fs_dest.open(i,mode=\"w\") as f:\n",
        "    df.to_csv(f)\n",
        "\n",
        "\n",
        "\n"
      ],
      "metadata": {
        "id": "__jZC-9_H3R7"
      },
      "execution_count": null,
      "outputs": []
    },
    {
      "cell_type": "markdown",
      "source": [
        "#Exercicio 2: \n",
        "1. Criar um bucket chamado \"bucket-maquinas-{RA DO ALUNO}\"\n",
        "2. Enviar as tabelas do banco de dados MAQUINA Para o bucket no S3 chamado bucket-maquinas-{RA DO ALUNO} \n",
        "\n"
      ],
      "metadata": {
        "id": "goIuImdTahPe"
      }
    },
    {
      "cell_type": "code",
      "source": [
        "server = ''\n",
        "database = \"MAQUINA\"\n",
        "username ='admin'\n",
        "password = 'aluno123'\n",
        "stringbound = f'mysql://{username}:{password}@{server}/{database}'\n",
        "engine=sqlalchemy.create_engine(stringbound)\n",
        "engine.connect()"
      ],
      "metadata": {
        "colab": {
          "base_uri": "https://localhost:8080/"
        },
        "id": "JCOxCuULaO5x",
        "outputId": "6d62ce4a-1500-43f7-d657-4d7c38730195"
      },
      "execution_count": null,
      "outputs": [
        {
          "output_type": "execute_result",
          "data": {
            "text/plain": [
              "<sqlalchemy.engine.base.Connection at 0x7f2512f8a990>"
            ]
          },
          "metadata": {},
          "execution_count": 91
        }
      ]
    },
    {
      "cell_type": "code",
      "source": [
        "nome_bucket = \"maquina-1201555\"\n",
        "client_s3.create_bucket(Bucket=nome_bucket)"
      ],
      "metadata": {
        "id": "J8JxcPSYastv"
      },
      "execution_count": null,
      "outputs": []
    },
    {
      "cell_type": "code",
      "source": [
        "#buscar nome das tabelas para integrar\n",
        "df_tabela = pd.read_sql(\"SELECT TABLE_SCHEMA,TABLE_NAME FROM information_schema.tables where TABLE_SCHEMA IN ('MAQUINA') ;\", con=engine)\n",
        "df_tabela"
      ],
      "metadata": {
        "colab": {
          "base_uri": "https://localhost:8080/",
          "height": 269
        },
        "id": "EADDudIea5a_",
        "outputId": "77307c03-aea1-4873-85c6-8d75c28ffb36"
      },
      "execution_count": null,
      "outputs": [
        {
          "output_type": "execute_result",
          "data": {
            "text/plain": [
              "  TABLE_SCHEMA   TABLE_NAME\n",
              "0      MAQUINA       CIDADE\n",
              "1      MAQUINA      CLIENTE\n",
              "2      MAQUINA     ENDERECO\n",
              "3      MAQUINA       ESTADO\n",
              "4      MAQUINA  ITEM_PEDIDO\n",
              "5      MAQUINA      MAQUINA\n",
              "6      MAQUINA       PEDIDO"
            ],
            "text/html": [
              "\n",
              "  <div id=\"df-bceb5fe0-5c2e-4050-87ac-2d8382b4a433\">\n",
              "    <div class=\"colab-df-container\">\n",
              "      <div>\n",
              "<style scoped>\n",
              "    .dataframe tbody tr th:only-of-type {\n",
              "        vertical-align: middle;\n",
              "    }\n",
              "\n",
              "    .dataframe tbody tr th {\n",
              "        vertical-align: top;\n",
              "    }\n",
              "\n",
              "    .dataframe thead th {\n",
              "        text-align: right;\n",
              "    }\n",
              "</style>\n",
              "<table border=\"1\" class=\"dataframe\">\n",
              "  <thead>\n",
              "    <tr style=\"text-align: right;\">\n",
              "      <th></th>\n",
              "      <th>TABLE_SCHEMA</th>\n",
              "      <th>TABLE_NAME</th>\n",
              "    </tr>\n",
              "  </thead>\n",
              "  <tbody>\n",
              "    <tr>\n",
              "      <th>0</th>\n",
              "      <td>MAQUINA</td>\n",
              "      <td>CIDADE</td>\n",
              "    </tr>\n",
              "    <tr>\n",
              "      <th>1</th>\n",
              "      <td>MAQUINA</td>\n",
              "      <td>CLIENTE</td>\n",
              "    </tr>\n",
              "    <tr>\n",
              "      <th>2</th>\n",
              "      <td>MAQUINA</td>\n",
              "      <td>ENDERECO</td>\n",
              "    </tr>\n",
              "    <tr>\n",
              "      <th>3</th>\n",
              "      <td>MAQUINA</td>\n",
              "      <td>ESTADO</td>\n",
              "    </tr>\n",
              "    <tr>\n",
              "      <th>4</th>\n",
              "      <td>MAQUINA</td>\n",
              "      <td>ITEM_PEDIDO</td>\n",
              "    </tr>\n",
              "    <tr>\n",
              "      <th>5</th>\n",
              "      <td>MAQUINA</td>\n",
              "      <td>MAQUINA</td>\n",
              "    </tr>\n",
              "    <tr>\n",
              "      <th>6</th>\n",
              "      <td>MAQUINA</td>\n",
              "      <td>PEDIDO</td>\n",
              "    </tr>\n",
              "  </tbody>\n",
              "</table>\n",
              "</div>\n",
              "      <button class=\"colab-df-convert\" onclick=\"convertToInteractive('df-bceb5fe0-5c2e-4050-87ac-2d8382b4a433')\"\n",
              "              title=\"Convert this dataframe to an interactive table.\"\n",
              "              style=\"display:none;\">\n",
              "        \n",
              "  <svg xmlns=\"http://www.w3.org/2000/svg\" height=\"24px\"viewBox=\"0 0 24 24\"\n",
              "       width=\"24px\">\n",
              "    <path d=\"M0 0h24v24H0V0z\" fill=\"none\"/>\n",
              "    <path d=\"M18.56 5.44l.94 2.06.94-2.06 2.06-.94-2.06-.94-.94-2.06-.94 2.06-2.06.94zm-11 1L8.5 8.5l.94-2.06 2.06-.94-2.06-.94L8.5 2.5l-.94 2.06-2.06.94zm10 10l.94 2.06.94-2.06 2.06-.94-2.06-.94-.94-2.06-.94 2.06-2.06.94z\"/><path d=\"M17.41 7.96l-1.37-1.37c-.4-.4-.92-.59-1.43-.59-.52 0-1.04.2-1.43.59L10.3 9.45l-7.72 7.72c-.78.78-.78 2.05 0 2.83L4 21.41c.39.39.9.59 1.41.59.51 0 1.02-.2 1.41-.59l7.78-7.78 2.81-2.81c.8-.78.8-2.07 0-2.86zM5.41 20L4 18.59l7.72-7.72 1.47 1.35L5.41 20z\"/>\n",
              "  </svg>\n",
              "      </button>\n",
              "      \n",
              "  <style>\n",
              "    .colab-df-container {\n",
              "      display:flex;\n",
              "      flex-wrap:wrap;\n",
              "      gap: 12px;\n",
              "    }\n",
              "\n",
              "    .colab-df-convert {\n",
              "      background-color: #E8F0FE;\n",
              "      border: none;\n",
              "      border-radius: 50%;\n",
              "      cursor: pointer;\n",
              "      display: none;\n",
              "      fill: #1967D2;\n",
              "      height: 32px;\n",
              "      padding: 0 0 0 0;\n",
              "      width: 32px;\n",
              "    }\n",
              "\n",
              "    .colab-df-convert:hover {\n",
              "      background-color: #E2EBFA;\n",
              "      box-shadow: 0px 1px 2px rgba(60, 64, 67, 0.3), 0px 1px 3px 1px rgba(60, 64, 67, 0.15);\n",
              "      fill: #174EA6;\n",
              "    }\n",
              "\n",
              "    [theme=dark] .colab-df-convert {\n",
              "      background-color: #3B4455;\n",
              "      fill: #D2E3FC;\n",
              "    }\n",
              "\n",
              "    [theme=dark] .colab-df-convert:hover {\n",
              "      background-color: #434B5C;\n",
              "      box-shadow: 0px 1px 3px 1px rgba(0, 0, 0, 0.15);\n",
              "      filter: drop-shadow(0px 1px 2px rgba(0, 0, 0, 0.3));\n",
              "      fill: #FFFFFF;\n",
              "    }\n",
              "  </style>\n",
              "\n",
              "      <script>\n",
              "        const buttonEl =\n",
              "          document.querySelector('#df-bceb5fe0-5c2e-4050-87ac-2d8382b4a433 button.colab-df-convert');\n",
              "        buttonEl.style.display =\n",
              "          google.colab.kernel.accessAllowed ? 'block' : 'none';\n",
              "\n",
              "        async function convertToInteractive(key) {\n",
              "          const element = document.querySelector('#df-bceb5fe0-5c2e-4050-87ac-2d8382b4a433');\n",
              "          const dataTable =\n",
              "            await google.colab.kernel.invokeFunction('convertToInteractive',\n",
              "                                                     [key], {});\n",
              "          if (!dataTable) return;\n",
              "\n",
              "          const docLinkHtml = 'Like what you see? Visit the ' +\n",
              "            '<a target=\"_blank\" href=https://colab.research.google.com/notebooks/data_table.ipynb>data table notebook</a>'\n",
              "            + ' to learn more about interactive tables.';\n",
              "          element.innerHTML = '';\n",
              "          dataTable['output_type'] = 'display_data';\n",
              "          await google.colab.output.renderOutput(dataTable, element);\n",
              "          const docLink = document.createElement('div');\n",
              "          docLink.innerHTML = docLinkHtml;\n",
              "          element.appendChild(docLink);\n",
              "        }\n",
              "      </script>\n",
              "    </div>\n",
              "  </div>\n",
              "  "
            ]
          },
          "metadata": {},
          "execution_count": 120
        }
      ]
    },
    {
      "cell_type": "code",
      "source": [
        "#Subindo dados do banco para o bucket\n",
        "for x,y in df_tabela.iterrows():\n",
        "  tabela = y['TABLE_NAME']\n",
        "  df = pd.read_sql(tabela,con=engine)\n",
        "  caminho_bucket = f'maquina-1201555/maquina/{tabela.lower()}.csv'\n",
        "  with fs_dest.open(caminho_bucket,mode=\"w\") as f:\n",
        "    df.to_csv(f)\n",
        " "
      ],
      "metadata": {
        "id": "HwkE8RXoayWT"
      },
      "execution_count": null,
      "outputs": []
    },
    {
      "cell_type": "code",
      "source": [
        "for x,y in df_tabela.iterrows():\n",
        "  tabela = y['TABLE_NAME']\n",
        "  banco = y['TABLE_SCHEMA']\n",
        "  df = pd.read_sql(f\"select * from {banco}.{tabela}\",con=engine)\n",
        "  caminho_bucket = f'maquina-1201555/{banco}/{tabela.lower()}.csv'\n",
        "  with fs_dest.open(caminho_bucket,mode=\"w\") as f:\n",
        "    df.to_csv(f)\n",
        " "
      ],
      "metadata": {
        "id": "JI1RjmGyeMCm"
      },
      "execution_count": null,
      "outputs": []
    },
    {
      "cell_type": "markdown",
      "source": [
        "Códigos para consulta"
      ],
      "metadata": {
        "id": "PB5KOhy8H3t9"
      }
    },
    {
      "cell_type": "code",
      "source": [
        "with open(\"chamados/chamado_teste.csv\",mode=\"w\") as f:\n",
        "   df.to_csv(f)\n"
      ],
      "metadata": {
        "id": "MH-R3RSYSo_Y"
      },
      "execution_count": null,
      "outputs": []
    },
    {
      "cell_type": "code",
      "source": [
        "from google.colab import drive\n",
        "drive.mount('/content/drive')"
      ],
      "metadata": {
        "id": "7VJly1cAS5yl"
      },
      "execution_count": null,
      "outputs": []
    },
    {
      "cell_type": "code",
      "source": [
        "arquivos = [i.get(\"Key\") for i in contents]\n",
        "arquivos"
      ],
      "metadata": {
        "colab": {
          "base_uri": "https://localhost:8080/"
        },
        "id": "7pr_UjkQE30N",
        "outputId": "e2ff3c67-0f97-4e86-b2f6-6011ced3a27e"
      },
      "execution_count": null,
      "outputs": [
        {
          "output_type": "execute_result",
          "data": {
            "text/plain": [
              "['anscombe',\n",
              " 'chamados',\n",
              " 'chamados/',\n",
              " 'chamados/categoria.csv',\n",
              " 'chamados/chamado.csv',\n",
              " 'chamados/cidade.csv',\n",
              " 'chamados/clientes.csv',\n",
              " 'chamados/equipes.csv',\n",
              " 'chamados/estado.csv',\n",
              " 'chamados/setor.csv',\n",
              " 'chamados/tipo.csv',\n",
              " 'chamados/unidade.csv',\n",
              " 'chamados/venda.csv']"
            ]
          },
          "metadata": {},
          "execution_count": 38
        }
      ]
    },
    {
      "cell_type": "code",
      "source": [
        "for i in contents:\n",
        "  arquivo = i.get(\"Key\")\n",
        "  print(arquivo)"
      ],
      "metadata": {
        "colab": {
          "base_uri": "https://localhost:8080/"
        },
        "id": "V_fvrnMlHuiS",
        "outputId": "e188a96f-7fbb-466f-a22f-36cf2b5f69ce"
      },
      "execution_count": null,
      "outputs": [
        {
          "output_type": "stream",
          "name": "stdout",
          "text": [
            "anscombe\n",
            "chamados\n",
            "chamados/\n",
            "chamados/categoria.csv\n",
            "chamados/chamado.csv\n",
            "chamados/cidade.csv\n",
            "chamados/clientes.csv\n",
            "chamados/equipes.csv\n",
            "chamados/estado.csv\n",
            "chamados/setor.csv\n",
            "chamados/tipo.csv\n",
            "chamados/unidade.csv\n",
            "chamados/venda.csv\n"
          ]
        }
      ]
    },
    {
      "cell_type": "code",
      "source": [
        "lista2 = []\n",
        "for i in contents:\n",
        "  arquivo = i.get(\"Key\")\n",
        "  if \".csv\" in arquivo:        \n",
        "    lista2.append(arquivo)\n",
        "lista2"
      ],
      "metadata": {
        "colab": {
          "base_uri": "https://localhost:8080/"
        },
        "id": "hQi5aXXOIzz2",
        "outputId": "bfa4dd92-6870-4f50-b857-f8256bcae421"
      },
      "execution_count": null,
      "outputs": [
        {
          "output_type": "execute_result",
          "data": {
            "text/plain": [
              "['chamados/categoria.csv',\n",
              " 'chamados/chamado.csv',\n",
              " 'chamados/cidade.csv',\n",
              " 'chamados/clientes.csv',\n",
              " 'chamados/equipes.csv',\n",
              " 'chamados/estado.csv',\n",
              " 'chamados/setor.csv',\n",
              " 'chamados/tipo.csv',\n",
              " 'chamados/unidade.csv',\n",
              " 'chamados/venda.csv']"
            ]
          },
          "metadata": {},
          "execution_count": 57
        }
      ]
    },
    {
      "cell_type": "code",
      "source": [
        "lista2.append(\"chamados/gato.csv\")\n",
        "lista2"
      ],
      "metadata": {
        "colab": {
          "base_uri": "https://localhost:8080/"
        },
        "id": "G8FVSk28JI6G",
        "outputId": "0fb79413-5748-4090-97e7-050c6c3b0c34"
      },
      "execution_count": null,
      "outputs": [
        {
          "output_type": "execute_result",
          "data": {
            "text/plain": [
              "['anscombe',\n",
              " 'chamados',\n",
              " 'chamados/',\n",
              " 'chamados/categoria.csv',\n",
              " 'chamados/chamado.csv',\n",
              " 'chamados/cidade.csv',\n",
              " 'chamados/clientes.csv',\n",
              " 'chamados/equipes.csv',\n",
              " 'chamados/estado.csv',\n",
              " 'chamados/setor.csv',\n",
              " 'chamados/tipo.csv',\n",
              " 'chamados/unidade.csv',\n",
              " 'chamados/venda.csv',\n",
              " 'chamados/gato.csv']"
            ]
          },
          "metadata": {},
          "execution_count": 53
        }
      ]
    },
    {
      "cell_type": "code",
      "source": [
        "{dicionario = {\"Key\":\"chamados/categoria.csv\"}"
      ],
      "metadata": {
        "id": "edwGijwqH-nq"
      },
      "execution_count": null,
      "outputs": []
    },
    {
      "cell_type": "code",
      "source": [
        "dicionario.get(\"Key\")"
      ],
      "metadata": {
        "colab": {
          "base_uri": "https://localhost:8080/",
          "height": 35
        },
        "id": "Bri5l1jkIZnO",
        "outputId": "b9ad2b8a-deb3-4b23-de2f-fd48893bf16e"
      },
      "execution_count": null,
      "outputs": [
        {
          "output_type": "execute_result",
          "data": {
            "text/plain": [
              "'chamados/categoria.csv'"
            ],
            "application/vnd.google.colaboratory.intrinsic+json": {
              "type": "string"
            }
          },
          "metadata": {},
          "execution_count": 49
        }
      ]
    },
    {
      "cell_type": "code",
      "source": [
        "#abre a lista e insere em outra lista\n",
        "lista_c = [i for i in contents]\n",
        "\n",
        "#aplica um metodo nos objetos da lista\n",
        "lista_d = [i.get(\"Key\") for i in contents]\n",
        "\n",
        "#aplicando um filtro na lista\n",
        "lista_e = [i.get(\"Key\") for i in contents if \".csv\" in i.get(\"Key\")]\n",
        "lista_e"
      ],
      "metadata": {
        "colab": {
          "base_uri": "https://localhost:8080/"
        },
        "id": "Cs6x5TUkIdLJ",
        "outputId": "d9042c36-34f2-4f27-bdf2-cacbc4e31d54"
      },
      "execution_count": null,
      "outputs": [
        {
          "output_type": "execute_result",
          "data": {
            "text/plain": [
              "['chamados/categoria.csv',\n",
              " 'chamados/chamado.csv',\n",
              " 'chamados/cidade.csv',\n",
              " 'chamados/clientes.csv',\n",
              " 'chamados/equipes.csv',\n",
              " 'chamados/estado.csv',\n",
              " 'chamados/setor.csv',\n",
              " 'chamados/tipo.csv',\n",
              " 'chamados/unidade.csv',\n",
              " 'chamados/venda.csv']"
            ]
          },
          "metadata": {},
          "execution_count": 63
        }
      ]
    }
  ]
}