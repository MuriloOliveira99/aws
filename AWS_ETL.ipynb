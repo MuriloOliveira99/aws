{
  "nbformat": 4,
  "nbformat_minor": 0,
  "metadata": {
    "colab": {
      "name": "AWS_ETL.ipynb",
      "provenance": [],
      "collapsed_sections": []
    },
    "kernelspec": {
      "name": "python3",
      "display_name": "Python 3"
    },
    "language_info": {
      "name": "python"
    }
  },
  "cells": [
    {
      "cell_type": "markdown",
      "source": [
        "#Objetivo:\n",
        "###Inserir dados de arquivos .csv em um banco de dados relacional.Extrair dados de um banco de dados relacional e gravar no formato .csv.\n",
        "\n",
        "<ul>\n",
        "  <li>OBS: Criar duas pastas: 'dados' e 'arquivos_csv', </li>\n",
        "<ul>"
      ],
      "metadata": {
        "id": "-s-Y6MxkIByQ"
      }
    },
    {
      "cell_type": "markdown",
      "source": [
        "#Atividade 1:\n",
        "<ul>\n",
        "  <li>Crie uma nova pasta no colab com o RA de um dos alunos do grupo. Suba os arquivos (ALUNO.csv, CONVIDADO.csv, FREGUES.csvFUNCIONÁRIO.csv, IMOVEL.csv)  manualmente. </li>\n",
        "  <li>Utilizando a biblioteca pandas, criar um dataframe (tabela) para cada arquivo disponibilizado. </li>\n",
        "  <li>Inserir todos os arquivos no banco de dados engenharia, utilizando o comando “to_sql”. O nome da tabela, deverá ser o mesmo nome do arquivo</li>\n",
        "</ul>"
      ],
      "metadata": {
        "id": "Q0C-_3YWIQEj"
      }
    },
    {
      "cell_type": "code",
      "execution_count": null,
      "metadata": {
        "id": "n-pxRjh5-rD2",
        "colab": {
          "base_uri": "https://localhost:8080/"
        },
        "outputId": "67bbe1e8-7f5d-4d86-acac-7dff2ac69b76"
      },
      "outputs": [
        {
          "output_type": "stream",
          "name": "stdout",
          "text": [
            "Looking in indexes: https://pypi.org/simple, https://us-python.pkg.dev/colab-wheels/public/simple/\n",
            "Collecting pyodbc\n",
            "  Downloading pyodbc-4.0.32.tar.gz (280 kB)\n",
            "Building wheels for collected packages: pyodbc\n",
            "  Building wheel for pyodbc (setup.py): started\n",
            "  Building wheel for pyodbc (setup.py): finished with status 'done'\n",
            "  Created wheel for pyodbc: filename=pyodbc-4.0.32-cp37-cp37m-linux_x86_64.whl size=287377 sha256=68a50e5b83ed0a3b78517af81a5516c057af1d465d5f554959179d299ad430c3\n",
            "  Stored in directory: /root/.cache/pip/wheels/2e/9c/da/8652fd42e0f662015554f00a9e96fe4f438dfd1ef59787879e\n",
            "Successfully built pyodbc\n",
            "Installing collected packages: pyodbc\n",
            "Successfully installed pyodbc-4.0.32\n",
            "Looking in indexes: https://pypi.org/simple, https://us-python.pkg.dev/colab-wheels/public/simple/\n",
            "Requirement already satisfied: sqlalchemy in /usr/local/lib/python3.7/dist-packages (1.4.36)\n",
            "Requirement already satisfied: importlib-metadata in /usr/local/lib/python3.7/dist-packages (from sqlalchemy) (4.11.4)\n",
            "Requirement already satisfied: greenlet!=0.4.17 in /usr/local/lib/python3.7/dist-packages (from sqlalchemy) (1.1.2)\n",
            "Requirement already satisfied: zipp>=0.5 in /usr/local/lib/python3.7/dist-packages (from importlib-metadata->sqlalchemy) (3.8.0)\n",
            "Requirement already satisfied: typing-extensions>=3.6.4 in /usr/local/lib/python3.7/dist-packages (from importlib-metadata->sqlalchemy) (4.2.0)\n",
            "Looking in indexes: https://pypi.org/simple, https://us-python.pkg.dev/colab-wheels/public/simple/\n",
            "Collecting pymysql\n",
            "  Downloading PyMySQL-1.0.2-py3-none-any.whl (43 kB)\n",
            "Installing collected packages: pymysql\n",
            "Successfully installed pymysql-1.0.2\n",
            "Looking in indexes: https://pypi.org/simple, https://us-python.pkg.dev/colab-wheels/public/simple/\n",
            "Collecting mysqlclient\n",
            "  Downloading mysqlclient-2.1.0.tar.gz (87 kB)\n",
            "Building wheels for collected packages: mysqlclient\n",
            "  Building wheel for mysqlclient (setup.py): started\n",
            "  Building wheel for mysqlclient (setup.py): finished with status 'done'\n",
            "  Created wheel for mysqlclient: filename=mysqlclient-2.1.0-cp37-cp37m-linux_x86_64.whl size=99971 sha256=8db7873e3291624691b9fc924ecced80c24d8bff77aa1f03ac2df96803e1a65f\n",
            "  Stored in directory: /root/.cache/pip/wheels/97/d4/df/08cd6e1fa4a8691b268ab254bd0fa589827ab5b65638c010b4\n",
            "Successfully built mysqlclient\n",
            "Installing collected packages: mysqlclient\n",
            "Successfully installed mysqlclient-2.1.0\n"
          ]
        }
      ],
      "source": [
        "# Instalando as bibliotecas.\n",
        "%%sh\n",
        "sudo pip install pyodbc\n",
        "sudo pip install sqlalchemy\n",
        "sudo pip install pymysql\n",
        "sudo pip install mysqlclient"
      ]
    },
    {
      "cell_type": "code",
      "source": [
        "# Importando as bibliotecas.\n",
        "import sqlalchemy,pyodbc,pandas as pd"
      ],
      "metadata": {
        "id": "DmFKHbqV-8N0"
      },
      "execution_count": null,
      "outputs": []
    },
    {
      "cell_type": "code",
      "source": [
        "# Variáveis de para fazer a conexão com o banco de dados.\n",
        "servidor = '' # ex: database-2.f7827842.us-east-1.rds.amazonaws.com\n",
        "usuario = 'admin'\n",
        "senha = 'aluno123'\n",
        "banco = 'AC2'\n",
        "string_conexao = f'mysql://{usuario}:{senha}@{servidor}/{banco}'\n",
        "engine = sqlalchemy.create_engine(string_conexao)\n",
        "engine.connect()"
      ],
      "metadata": {
        "id": "gBF3z1Qs-1-4",
        "colab": {
          "base_uri": "https://localhost:8080/"
        },
        "outputId": "99240686-7baa-4eb8-c89b-f8e96b6f8dc3"
      },
      "execution_count": null,
      "outputs": [
        {
          "output_type": "execute_result",
          "data": {
            "text/plain": [
              "<sqlalchemy.engine.base.Connection at 0x7fa76c4cdcd0>"
            ]
          },
          "metadata": {},
          "execution_count": 3
        }
      ]
    },
    {
      "cell_type": "code",
      "source": [
        "# Lendo um arquivo .csv.\n",
        "df = pd.read_csv('/content/dados/ALUNO.csv', delimiter=';', encoding = 'ISO-8859-1')"
      ],
      "metadata": {
        "id": "Gedaz89O--eW"
      },
      "execution_count": null,
      "outputs": []
    },
    {
      "cell_type": "markdown",
      "source": [
        "### Gravando os dados do df na tabela ALUNO do banco de dados."
      ],
      "metadata": {
        "id": "q8PtuhfgGJXg"
      }
    },
    {
      "cell_type": "code",
      "source": [
        "df.to_sql('ALUNO', con=engine, if_exists='replace')"
      ],
      "metadata": {
        "id": "vw9B-NdMGMpC"
      },
      "execution_count": null,
      "outputs": []
    },
    {
      "cell_type": "code",
      "source": [
        "# os é uma biblioteca para utilizar as funcionalidades que são dependentes de sistema operacional.\n",
        "import os\n",
        "\n",
        "# Listando os diretórios\n",
        "diretorio = os.listdir(\"/content/dados\")\n",
        "diretorio"
      ],
      "metadata": {
        "colab": {
          "base_uri": "https://localhost:8080/"
        },
        "id": "S13xTYzoAZYx",
        "outputId": "185b0085-b486-47e6-dfbd-93194b39a1a2"
      },
      "execution_count": null,
      "outputs": [
        {
          "output_type": "execute_result",
          "data": {
            "text/plain": [
              "['FREGUES.csv', 'ALUNO.csv', 'FUNCIONARIO.csv', 'CONVIDADO.csv', 'IMOVEL.csv']"
            ]
          },
          "metadata": {},
          "execution_count": 8
        }
      ]
    },
    {
      "cell_type": "markdown",
      "source": [
        "### for para inserir todas as tabelas da pasta 'dados' no banco de dados"
      ],
      "metadata": {
        "id": "_kY38MhbF_fh"
      }
    },
    {
      "cell_type": "code",
      "source": [
        "for i in diretorio:\n",
        "  arquivo = i \n",
        "  tabela = i.replace('.csv', '') # Substitui o .csv por '', para o nome da tabela não ficar com .csv no final. Exemplo: aluno.cs.\n",
        "  print(arquivo, tabela) \n",
        "  df = pd.read_csv(f'/content/dados/{arquivo}', delimiter=';', encoding = 'ISO-8859-1') # Lendo um arquivo .csv.\n",
        "  df.to_sql(f'{tabela}', engine, if_exists='replace') # Gravando os dados do df na tabela ALUNO do banco de dados.\n",
        "  print(f'O arquivo {arquivo} foi gravado na tabela {tabela}')"
      ],
      "metadata": {
        "colab": {
          "base_uri": "https://localhost:8080/"
        },
        "id": "yG8mirgsCpYb",
        "outputId": "08251487-df1e-444c-f617-d14f0bcb5cf0"
      },
      "execution_count": null,
      "outputs": [
        {
          "output_type": "stream",
          "name": "stdout",
          "text": [
            "FREGUES.csv FREGUES\n",
            "O arquivo FREGUES.csv foi gravado na tabela FREGUES\n",
            "ALUNO.csv ALUNO\n",
            "O arquivo ALUNO.csv foi gravado na tabela ALUNO\n",
            "FUNCIONARIO.csv FUNCIONARIO\n",
            "O arquivo FUNCIONARIO.csv foi gravado na tabela FUNCIONARIO\n",
            "CONVIDADO.csv CONVIDADO\n",
            "O arquivo CONVIDADO.csv foi gravado na tabela CONVIDADO\n",
            "IMOVEL.csv IMOVEL\n",
            "O arquivo IMOVEL.csv foi gravado na tabela IMOVEL\n"
          ]
        }
      ]
    },
    {
      "cell_type": "markdown",
      "source": [
        "### Função para gravar dados de forma automática"
      ],
      "metadata": {
        "id": "5pqV0OO7F4pe"
      }
    },
    {
      "cell_type": "code",
      "source": [
        "def grava_csv_mysql(arquivo, tabela): #arquivo, tabela, ENGINE\n",
        "  df = pd.read_csv(f'/content/dados/{arquivo}', delimiter=';', encoding = 'ISO-8859-1') # Lendo um arquivo .csv.\n",
        "  # print(df) con=engine\n",
        "  df.to_sql(f'{tabela}', engine, if_exists='replace') # Gravando os dados do df na tabela ALUNO do banco de dados."
      ],
      "metadata": {
        "id": "RSw_8ITfEpWI"
      },
      "execution_count": null,
      "outputs": []
    },
    {
      "cell_type": "code",
      "source": [
        "diretorio = os.listdir('/content/dados')\n",
        "for i in diretorio:\n",
        "  grava_csv_mysql(arquivo=i, tabela=i.replace('.csv', ''))"
      ],
      "metadata": {
        "id": "6Nf8fWaIGda4"
      },
      "execution_count": null,
      "outputs": []
    },
    {
      "cell_type": "markdown",
      "source": [
        "#Atividade 2:\n",
        "<ul>\n",
        "  <li>Temos uma tabela de “PAGAMENTO” no banco de dados “AC2” (criar uma nova engine ou ler a tabela usando o nome do banco de dados  “PAGAMENTO”).<br>\n",
        "Os dados de pagamento vão do dia 07/09/2021 até 09/09/2021, criar um script que grave um arquivo diferente no formato .csv, para os dias 07, 08 e 09.<br><br>\n",
        "Exemplo:<br>\n",
        "DATA = 2021-09-07 -> arquivos_csv/pagamento_20210907.csv\n",
        "DATA = 2021-09-08 -> arquivos_csv/pagamento_20210908.csv\n",
        "  </li>\n",
        "</ul>"
      ],
      "metadata": {
        "id": "DWdMxiD-JPwM"
      }
    },
    {
      "cell_type": "code",
      "source": [
        "# Lendo dados .sql com pandas\n",
        "df = pd.read_sql(\"SELECT * FROM PAGAMENTO WHERE data = '2021-09-07'\", con=engine)\n",
        "df"
      ],
      "metadata": {
        "colab": {
          "base_uri": "https://localhost:8080/",
          "height": 143
        },
        "id": "1iIU-GL3Ja5a",
        "outputId": "da60ae3b-5ada-4906-afc3-de5081138dac"
      },
      "execution_count": null,
      "outputs": [
        {
          "output_type": "execute_result",
          "data": {
            "text/plain": [
              "   index  PAGAMENTO        DATA  VALOR\n",
              "0      0          1  2021-09-07  100.5\n",
              "1      1          2  2021-09-07  200.5\n",
              "2      2          3  2021-09-07  400.5"
            ],
            "text/html": [
              "\n",
              "  <div id=\"df-86d43d77-244b-4398-b77d-a6a8e659ed86\">\n",
              "    <div class=\"colab-df-container\">\n",
              "      <div>\n",
              "<style scoped>\n",
              "    .dataframe tbody tr th:only-of-type {\n",
              "        vertical-align: middle;\n",
              "    }\n",
              "\n",
              "    .dataframe tbody tr th {\n",
              "        vertical-align: top;\n",
              "    }\n",
              "\n",
              "    .dataframe thead th {\n",
              "        text-align: right;\n",
              "    }\n",
              "</style>\n",
              "<table border=\"1\" class=\"dataframe\">\n",
              "  <thead>\n",
              "    <tr style=\"text-align: right;\">\n",
              "      <th></th>\n",
              "      <th>index</th>\n",
              "      <th>PAGAMENTO</th>\n",
              "      <th>DATA</th>\n",
              "      <th>VALOR</th>\n",
              "    </tr>\n",
              "  </thead>\n",
              "  <tbody>\n",
              "    <tr>\n",
              "      <th>0</th>\n",
              "      <td>0</td>\n",
              "      <td>1</td>\n",
              "      <td>2021-09-07</td>\n",
              "      <td>100.5</td>\n",
              "    </tr>\n",
              "    <tr>\n",
              "      <th>1</th>\n",
              "      <td>1</td>\n",
              "      <td>2</td>\n",
              "      <td>2021-09-07</td>\n",
              "      <td>200.5</td>\n",
              "    </tr>\n",
              "    <tr>\n",
              "      <th>2</th>\n",
              "      <td>2</td>\n",
              "      <td>3</td>\n",
              "      <td>2021-09-07</td>\n",
              "      <td>400.5</td>\n",
              "    </tr>\n",
              "  </tbody>\n",
              "</table>\n",
              "</div>\n",
              "      <button class=\"colab-df-convert\" onclick=\"convertToInteractive('df-86d43d77-244b-4398-b77d-a6a8e659ed86')\"\n",
              "              title=\"Convert this dataframe to an interactive table.\"\n",
              "              style=\"display:none;\">\n",
              "        \n",
              "  <svg xmlns=\"http://www.w3.org/2000/svg\" height=\"24px\"viewBox=\"0 0 24 24\"\n",
              "       width=\"24px\">\n",
              "    <path d=\"M0 0h24v24H0V0z\" fill=\"none\"/>\n",
              "    <path d=\"M18.56 5.44l.94 2.06.94-2.06 2.06-.94-2.06-.94-.94-2.06-.94 2.06-2.06.94zm-11 1L8.5 8.5l.94-2.06 2.06-.94-2.06-.94L8.5 2.5l-.94 2.06-2.06.94zm10 10l.94 2.06.94-2.06 2.06-.94-2.06-.94-.94-2.06-.94 2.06-2.06.94z\"/><path d=\"M17.41 7.96l-1.37-1.37c-.4-.4-.92-.59-1.43-.59-.52 0-1.04.2-1.43.59L10.3 9.45l-7.72 7.72c-.78.78-.78 2.05 0 2.83L4 21.41c.39.39.9.59 1.41.59.51 0 1.02-.2 1.41-.59l7.78-7.78 2.81-2.81c.8-.78.8-2.07 0-2.86zM5.41 20L4 18.59l7.72-7.72 1.47 1.35L5.41 20z\"/>\n",
              "  </svg>\n",
              "      </button>\n",
              "      \n",
              "  <style>\n",
              "    .colab-df-container {\n",
              "      display:flex;\n",
              "      flex-wrap:wrap;\n",
              "      gap: 12px;\n",
              "    }\n",
              "\n",
              "    .colab-df-convert {\n",
              "      background-color: #E8F0FE;\n",
              "      border: none;\n",
              "      border-radius: 50%;\n",
              "      cursor: pointer;\n",
              "      display: none;\n",
              "      fill: #1967D2;\n",
              "      height: 32px;\n",
              "      padding: 0 0 0 0;\n",
              "      width: 32px;\n",
              "    }\n",
              "\n",
              "    .colab-df-convert:hover {\n",
              "      background-color: #E2EBFA;\n",
              "      box-shadow: 0px 1px 2px rgba(60, 64, 67, 0.3), 0px 1px 3px 1px rgba(60, 64, 67, 0.15);\n",
              "      fill: #174EA6;\n",
              "    }\n",
              "\n",
              "    [theme=dark] .colab-df-convert {\n",
              "      background-color: #3B4455;\n",
              "      fill: #D2E3FC;\n",
              "    }\n",
              "\n",
              "    [theme=dark] .colab-df-convert:hover {\n",
              "      background-color: #434B5C;\n",
              "      box-shadow: 0px 1px 3px 1px rgba(0, 0, 0, 0.15);\n",
              "      filter: drop-shadow(0px 1px 2px rgba(0, 0, 0, 0.3));\n",
              "      fill: #FFFFFF;\n",
              "    }\n",
              "  </style>\n",
              "\n",
              "      <script>\n",
              "        const buttonEl =\n",
              "          document.querySelector('#df-86d43d77-244b-4398-b77d-a6a8e659ed86 button.colab-df-convert');\n",
              "        buttonEl.style.display =\n",
              "          google.colab.kernel.accessAllowed ? 'block' : 'none';\n",
              "\n",
              "        async function convertToInteractive(key) {\n",
              "          const element = document.querySelector('#df-86d43d77-244b-4398-b77d-a6a8e659ed86');\n",
              "          const dataTable =\n",
              "            await google.colab.kernel.invokeFunction('convertToInteractive',\n",
              "                                                     [key], {});\n",
              "          if (!dataTable) return;\n",
              "\n",
              "          const docLinkHtml = 'Like what you see? Visit the ' +\n",
              "            '<a target=\"_blank\" href=https://colab.research.google.com/notebooks/data_table.ipynb>data table notebook</a>'\n",
              "            + ' to learn more about interactive tables.';\n",
              "          element.innerHTML = '';\n",
              "          dataTable['output_type'] = 'display_data';\n",
              "          await google.colab.output.renderOutput(dataTable, element);\n",
              "          const docLink = document.createElement('div');\n",
              "          docLink.innerHTML = docLinkHtml;\n",
              "          element.appendChild(docLink);\n",
              "        }\n",
              "      </script>\n",
              "    </div>\n",
              "  </div>\n",
              "  "
            ]
          },
          "metadata": {},
          "execution_count": 26
        }
      ]
    },
    {
      "cell_type": "code",
      "source": [
        "# Salvando os dados .sql em .csv na pasta 'arquivos_csv' de forma manual\n",
        "df.to_csv('arquivos_csv/pagamentos_20210907.csv', encoding='utf-8', index=False)"
      ],
      "metadata": {
        "id": "OsUxu1D-KfM2"
      },
      "execution_count": null,
      "outputs": []
    },
    {
      "cell_type": "code",
      "source": [
        "# Biblioteca datetime é utilizada para tratamento de datas e outras funcionalidades\n",
        "# datetime = dataHora\n",
        "# date = data\n",
        "# timedelta = subtrai dias de data\n",
        "from datetime import datetime, date, timedelta\n",
        "\n",
        "hoje = date.today()\n",
        "ontem = hoje - timedelta(1)\n",
        "amanha = hoje + timedelta(1)\n",
        "print(hoje) # Retorna tipo date\n",
        "print(ontem)\n",
        "print(amanha)"
      ],
      "metadata": {
        "colab": {
          "base_uri": "https://localhost:8080/"
        },
        "id": "gCfuRD1wMkdd",
        "outputId": "ea8d80f7-eae3-4f3b-d501-da192d3fda4a"
      },
      "execution_count": null,
      "outputs": [
        {
          "output_type": "stream",
          "name": "stdout",
          "text": [
            "2022-06-04\n",
            "2022-06-03\n",
            "2022-06-05\n"
          ]
        }
      ]
    },
    {
      "cell_type": "code",
      "source": [
        "# Salvando os dados .sql em .csv na pasta 'arquivos_csv' de forma automatica com while\n",
        "data_inicio = date(2021, 9, 7)\n",
        "data_fim = date(2021, 9, 9)\n",
        "\n",
        "while data_inicio <= data_fim:\n",
        "  data = str(data_inicio)# Convertendo a data_inicio para string\n",
        "  df = pd.read_sql(f\"SELECT * FROM PAGAMENTO WHERE data = '{data}'\", con=engine)\n",
        "  df.to_csv(f\"arquivos_csv/pagamentos_{data}.csv\")\n",
        "  print(df)\n",
        "  data_inicio = data_inicio + timedelta(1)"
      ],
      "metadata": {
        "colab": {
          "base_uri": "https://localhost:8080/"
        },
        "id": "XObLhWbROT7A",
        "outputId": "99a673b2-976f-4039-e329-adce806e23db"
      },
      "execution_count": null,
      "outputs": [
        {
          "output_type": "stream",
          "name": "stdout",
          "text": [
            "   index  PAGAMENTO        DATA  VALOR\n",
            "0      0          1  2021-09-07  100.5\n",
            "1      1          2  2021-09-07  200.5\n",
            "2      2          3  2021-09-07  400.5\n",
            "   index  PAGAMENTO        DATA  VALOR\n",
            "0      3          4  2021-09-08  600.5\n",
            "1      4          5  2021-09-08  100.0\n",
            "2      5          6  2021-09-08    1.5\n",
            "3      6          7  2021-09-08  433.5\n",
            "   index  PAGAMENTO        DATA   VALOR\n",
            "0      7          8  2021-09-09  3233.5\n",
            "1      8          9  2021-09-09  2342.0\n",
            "2      9         10  2021-09-09   233.0\n"
          ]
        }
      ]
    }
  ]
}