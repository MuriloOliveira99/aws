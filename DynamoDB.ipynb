{
  "nbformat": 4,
  "nbformat_minor": 0,
  "metadata": {
    "colab": {
      "name": "DynamoDB.ipynb",
      "provenance": []
    },
    "kernelspec": {
      "name": "python3",
      "display_name": "Python 3"
    },
    "language_info": {
      "name": "python"
    }
  },
  "cells": [
    {
      "cell_type": "code",
      "execution_count": null,
      "metadata": {
        "id": "kU4A_EiHCm3U"
      },
      "outputs": [],
      "source": [
        "!pip install boto3"
      ]
    },
    {
      "cell_type": "code",
      "source": [
        "#Credenciais do AWS\n",
        "aws_access_key_id = ''\n",
        "aws_secret_access_key = ''\n",
        "aws_session_token = ''"
      ],
      "metadata": {
        "id": "xY3BXdw6EFiz"
      },
      "execution_count": null,
      "outputs": []
    },
    {
      "cell_type": "code",
      "source": [
        "import boto3\n",
        "dynamodb = boto3.resource('dynamodb', aws_access_key_id=aws_access_key_id,\n",
        "                        aws_secret_access_key=aws_secret_access_key,\n",
        "                        aws_session_token=aws_session_token\n",
        "                       ,region_name = \"us-east-1\", use_ssl=False)"
      ],
      "metadata": {
        "id": "FFJBQ8DtEW0O"
      },
      "execution_count": null,
      "outputs": []
    },
    {
      "cell_type": "code",
      "source": [
        "#Parametros de criação\n",
        "params = {\n",
        "        'TableName': 'animal', #nome da tabela\n",
        "        #Esquema das chaves\n",
        "        'KeySchema': [\n",
        "            {'AttributeName': 'id', 'KeyType': 'HASH'}, # hash será a chave primaria\n",
        "            {'AttributeName': 'nome', 'KeyType': 'RANGE'} #range, não obrigatória, formaria uma chave composta\n",
        "        ],\n",
        "        #Tipo de dados da chave\n",
        "        'AttributeDefinitions': [ \n",
        "            {'AttributeName': 'id', 'AttributeType': 'N'}, #N de number\n",
        "            {'AttributeName': 'nome', 'AttributeType': 'S'} #S de string\n",
        "        ],\n",
        "        #Configuração de escrita e leitura por segundo\n",
        "        'ProvisionedThroughput': {\n",
        "            'ReadCapacityUnits': 3,\n",
        "            'WriteCapacityUnits': 3\n",
        "        }\n",
        "    }\n",
        "dynamodb.create_table(**params)"
      ],
      "metadata": {
        "colab": {
          "base_uri": "https://localhost:8080/"
        },
        "id": "4DOP4xZWEhlf",
        "outputId": "285d3767-050f-4b1e-c202-2a77fac1748b"
      },
      "execution_count": null,
      "outputs": [
        {
          "output_type": "execute_result",
          "data": {
            "text/plain": [
              "{'AttributeDefinitions': [{'AttributeName': 'id', 'AttributeType': 'N'},\n",
              "  {'AttributeName': 'nome', 'AttributeType': 'S'}],\n",
              " 'KeySchema': [{'AttributeName': 'id', 'KeyType': 'HASH'},\n",
              "  {'AttributeName': 'nome', 'KeyType': 'RANGE'}],\n",
              " 'ProvisionedThroughput': {'ReadCapacityUnits': 3, 'WriteCapacityUnits': 3},\n",
              " 'TableName': 'animal'}"
            ]
          },
          "metadata": {},
          "execution_count": 40
        }
      ]
    },
    {
      "cell_type": "code",
      "source": [
        "#Cria a tabela no aws\n",
        "dynamodb.create_table(**params)\n",
        "#keyword arguments = kargs"
      ],
      "metadata": {
        "colab": {
          "base_uri": "https://localhost:8080/"
        },
        "id": "CwDhLEcDE4Tb",
        "outputId": "f287db03-806a-4738-c0e8-73ada45c9763"
      },
      "execution_count": null,
      "outputs": [
        {
          "output_type": "execute_result",
          "data": {
            "text/plain": [
              "dynamodb.Table(name='animal')"
            ]
          },
          "metadata": {},
          "execution_count": 42
        }
      ]
    },
    {
      "cell_type": "code",
      "source": [
        "#Instancia a tabela no ambiente de dev\n",
        "animal_tabela = dynamodb.Table(\"animal\")"
      ],
      "metadata": {
        "colab": {
          "base_uri": "https://localhost:8080/"
        },
        "id": "8bqxXgmpLLHG",
        "outputId": "79738204-bb3f-4c05-8f80-abd4dea37bd3"
      },
      "execution_count": null,
      "outputs": [
        {
          "output_type": "execute_result",
          "data": {
            "text/plain": [
              "dynamodb.Table(name='animal')"
            ]
          },
          "metadata": {},
          "execution_count": 45
        }
      ]
    },
    {
      "cell_type": "code",
      "source": [
        "animal_tabela.put_item(\n",
        "    Item={\n",
        "        \"id\":1,\n",
        "        'nome':'onça',\n",
        "        'grupo':'pantera',\n",
        "        'raça':'brasileira',\n",
        "        'predador':'Serjao Berranteiro'\n",
        "    })"
      ],
      "metadata": {
        "colab": {
          "base_uri": "https://localhost:8080/"
        },
        "id": "dAmCYNRkMQvx",
        "outputId": "4c692ed5-2885-4a15-f279-fbf31786dcf6"
      },
      "execution_count": null,
      "outputs": [
        {
          "output_type": "execute_result",
          "data": {
            "text/plain": [
              "{'ResponseMetadata': {'HTTPHeaders': {'content-length': '2',\n",
              "   'content-type': 'application/x-amz-json-1.0',\n",
              "   'date': 'Wed, 20 Apr 2022 22:59:32 GMT',\n",
              "   'x-amz-crc32': '2745614147',\n",
              "   'x-amzn-requestid': '485D775LS2MU520VT27301OCL7VV4KQNSO5AEMVJF66Q9ASUAAJG'},\n",
              "  'HTTPStatusCode': 200,\n",
              "  'RequestId': '485D775LS2MU520VT27301OCL7VV4KQNSO5AEMVJF66Q9ASUAAJG',\n",
              "  'RetryAttempts': 0}}"
            ]
          },
          "metadata": {},
          "execution_count": 47
        }
      ]
    },
    {
      "cell_type": "code",
      "source": [
        "animal_tabela.put_item(\n",
        "    Item={\n",
        "        \"id\":2,\n",
        "        'nome':'Cagádo',\n",
        "        'grupo':'Quelideos',\n",
        "        'tipo':'reptil',    \n",
        "        'carapaça':True\n",
        "    })"
      ],
      "metadata": {
        "colab": {
          "base_uri": "https://localhost:8080/"
        },
        "id": "lVAueMSINHWY",
        "outputId": "f9de58bb-3e88-4f2e-9c0f-f30437acf280"
      },
      "execution_count": null,
      "outputs": [
        {
          "output_type": "execute_result",
          "data": {
            "text/plain": [
              "{'ResponseMetadata': {'HTTPHeaders': {'content-length': '2',\n",
              "   'content-type': 'application/x-amz-json-1.0',\n",
              "   'date': 'Wed, 20 Apr 2022 23:07:13 GMT',\n",
              "   'x-amz-crc32': '2745614147',\n",
              "   'x-amzn-requestid': 'N7391U29ICO49E0NTIE428BJPRVV4KQNSO5AEMVJF66Q9ASUAAJG'},\n",
              "  'HTTPStatusCode': 200,\n",
              "  'RequestId': 'N7391U29ICO49E0NTIE428BJPRVV4KQNSO5AEMVJF66Q9ASUAAJG',\n",
              "  'RetryAttempts': 0}}"
            ]
          },
          "metadata": {},
          "execution_count": 50
        }
      ]
    },
    {
      "cell_type": "code",
      "source": [
        "#Parametros de criação\n",
        "params = {\n",
        "        'TableName': 'serie', #nome da tabela\n",
        "        #Esquema das chaves\n",
        "        'KeySchema': [\n",
        "            {'AttributeName': 'id', 'KeyType': 'HASH'},   # hash será a chave primaria\n",
        "            {'AttributeName': 'nome', 'KeyType': 'RANGE'} #range, não obrigatória, formaria uma chave composta\n",
        "        ],\n",
        "        #Tipo de dados da chave\n",
        "        'AttributeDefinitions': [ \n",
        "            {'AttributeName': 'id', 'AttributeType': 'N'}, #N de number\n",
        "            {'AttributeName': 'nome', 'AttributeType': 'S'} #S de string\n",
        "        ],\n",
        "        #Configuração de escrita e leitura por segundo\n",
        "        'ProvisionedThroughput': {\n",
        "            'ReadCapacityUnits': 3,\n",
        "            'WriteCapacityUnits': 3\n",
        "        }\n",
        "    }\n",
        "dynamodb.create_table(**params)"
      ],
      "metadata": {
        "colab": {
          "base_uri": "https://localhost:8080/"
        },
        "id": "eBXxhvqmVlHe",
        "outputId": "3855f873-8cc0-4f94-c3b2-24f37d2b7e6a"
      },
      "execution_count": null,
      "outputs": [
        {
          "output_type": "execute_result",
          "data": {
            "text/plain": [
              "dynamodb.Table(name='serie')"
            ]
          },
          "metadata": {},
          "execution_count": 51
        }
      ]
    },
    {
      "cell_type": "code",
      "source": [
        "serie_tabela = dynamodb.Table(\"serie\")"
      ],
      "metadata": {
        "id": "VGsO51omVn8u"
      },
      "execution_count": null,
      "outputs": []
    },
    {
      "cell_type": "code",
      "source": [
        "serie_tabela.put_item(\n",
        "    Item={\n",
        "        'id':30,\n",
        "        'nome':'Dexter',\n",
        "        'canal':'Prime Video',\n",
        "        'tipo':['policial','terror','suspense'],\n",
        "        'nota': 9,\n",
        "        'descrição': 'um serial killer que caça seriais killers'\n",
        "    })"
      ],
      "metadata": {
        "colab": {
          "base_uri": "https://localhost:8080/"
        },
        "id": "uY_HDDH6bQIA",
        "outputId": "4f799285-428d-4861-f3ab-e29540d12981"
      },
      "execution_count": null,
      "outputs": [
        {
          "output_type": "execute_result",
          "data": {
            "text/plain": [
              "{'ResponseMetadata': {'HTTPHeaders': {'content-length': '2',\n",
              "   'content-type': 'application/x-amz-json-1.0',\n",
              "   'date': 'Thu, 21 Apr 2022 00:03:36 GMT',\n",
              "   'x-amz-crc32': '2745614147',\n",
              "   'x-amzn-requestid': 'QV5B5V2U5U5R6A6BEDMDKEF737VV4KQNSO5AEMVJF66Q9ASUAAJG'},\n",
              "  'HTTPStatusCode': 200,\n",
              "  'RequestId': 'QV5B5V2U5U5R6A6BEDMDKEF737VV4KQNSO5AEMVJF66Q9ASUAAJG',\n",
              "  'RetryAttempts': 0}}"
            ]
          },
          "metadata": {},
          "execution_count": 60
        }
      ]
    },
    {
      "cell_type": "code",
      "source": [
        "import json\n",
        "j = open(\"series.json\",mode=\"r\")\n",
        "series = json.load(j)\n",
        "for i in series:\n",
        "  print(i)\n",
        "  serie_tabela.put_item(\n",
        "      Item=i\n",
        "  )\n"
      ],
      "metadata": {
        "colab": {
          "base_uri": "https://localhost:8080/"
        },
        "id": "eYPustqnb7b3",
        "outputId": "62682a51-dfb8-4397-b8c5-c4d7c8f6f8af"
      },
      "execution_count": null,
      "outputs": [
        {
          "output_type": "stream",
          "name": "stdout",
          "text": [
            "{'id': 1, 'nome': 'Pacificador', 'canal': 'Hbo Max', 'tipo': ['Ação', 'Comédia'], 'nota': 7, 'descrição': 'série de ação da dc'}\n",
            "{'id': 2, 'nome': 'Band of Brothers', 'canal': 'Hbo Max', 'tipo': ['Guerra', 'Drama'], 'nota': 10, 'descrição': 'historia da cia easy na segunda guerra mundial'}\n",
            "{'id': 3, 'nome': 'Chaves', 'canal': 'Multishow', 'tipo': ['Drama', 'Comédia'], 'nota': 7, 'descrição': 'história de um menino do balacubaco'}\n"
          ]
        }
      ]
    },
    {
      "cell_type": "code",
      "source": [
        "j1 = open(\"series.json\",mode=\"r\")\n",
        "lista = json.load(j1)\n",
        "for i in lista:\n",
        "  serie_tabela.put_item(\n",
        "      Item=i\n",
        "  )"
      ],
      "metadata": {
        "id": "MLLU1N46b8db"
      },
      "execution_count": null,
      "outputs": []
    },
    {
      "cell_type": "code",
      "source": [
        "import json\n",
        "j = open(\"series.json\")\n",
        "series = json.load(j)\n",
        "for i in series:\n",
        "  serie_tabela.put_item(Item=i)\n"
      ],
      "metadata": {
        "id": "XewJyMCSVymC"
      },
      "execution_count": null,
      "outputs": []
    },
    {
      "cell_type": "markdown",
      "source": [
        "#Conteúdos relacionados\n"
      ],
      "metadata": {
        "id": "bKB8BVdtE43f"
      }
    },
    {
      "cell_type": "code",
      "source": [
        "# como usar dicionario para armazenar parametros em uma função\n",
        "def calcula(primeiro_numero=1,segundo_numero=2):\n",
        "  resultado = primeiro_numero*segundo_numero\n",
        "  return resultado\n",
        "#maneira certa\n",
        "total = calcula(primeiro_numero=10,segundo_numero =40)\n",
        "print(total)\n",
        "total = calcula(20,40)\n",
        "print(total)\n",
        "kwargs = {'primeiro_numero':30,  'segundo_numero':30}\n",
        "total = calcula(**kwargs)\n",
        "print(total)\n",
        "\n",
        "#maneira errada\n",
        "#calcula(dicionario_parametros)"
      ],
      "metadata": {
        "colab": {
          "base_uri": "https://localhost:8080/"
        },
        "id": "_Rb20r7hFJBp",
        "outputId": "24527083-fbbc-495e-a900-faa94b0d7b7a"
      },
      "execution_count": null,
      "outputs": [
        {
          "output_type": "stream",
          "name": "stdout",
          "text": [
            "400\n",
            "800\n",
            "900\n"
          ]
        }
      ]
    },
    {
      "cell_type": "code",
      "source": [
        "def calcula2(primeiro_numero,segundo_numero,numero=1):\n",
        "  resultado = primeiro_numero*segundo_numero\n",
        "  return resultado\n",
        "calcula2(1,3)"
      ],
      "metadata": {
        "colab": {
          "base_uri": "https://localhost:8080/"
        },
        "id": "neC28SuVFslf",
        "outputId": "909db9d6-9f0e-4c38-949a-22248767c593"
      },
      "execution_count": null,
      "outputs": [
        {
          "output_type": "execute_result",
          "data": {
            "text/plain": [
              "3"
            ]
          },
          "metadata": {},
          "execution_count": 27
        }
      ]
    },
    {
      "cell_type": "code",
      "source": [
        "def soma(primeiro,segundo,terceiro=0):\n",
        "  resultado = primeiro + segundo + terceiro\n",
        "  return resultado\n",
        "soma(10,2)"
      ],
      "metadata": {
        "colab": {
          "base_uri": "https://localhost:8080/"
        },
        "id": "hByhOhYQHNJ7",
        "outputId": "446d7e5d-6bc8-40f6-8bb0-755af13cccf6"
      },
      "execution_count": null,
      "outputs": [
        {
          "output_type": "execute_result",
          "data": {
            "text/plain": [
              "12"
            ]
          },
          "metadata": {},
          "execution_count": 38
        }
      ]
    }
  ]
}