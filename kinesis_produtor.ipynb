{
  "nbformat": 4,
  "nbformat_minor": 0,
  "metadata": {
    "colab": {
      "provenance": [],
      "collapsed_sections": []
    },
    "kernelspec": {
      "name": "python3",
      "display_name": "Python 3"
    },
    "language_info": {
      "name": "python"
    }
  },
  "cells": [
    {
      "cell_type": "code",
      "execution_count": null,
      "metadata": {
        "id": "_xqiW4MDeqKh"
      },
      "outputs": [],
      "source": [
        "!pip install boto3"
      ]
    },
    {
      "cell_type": "code",
      "source": [
        "import boto3\n",
        "import json"
      ],
      "metadata": {
        "id": "dYO9gmsQhWSO"
      },
      "execution_count": null,
      "outputs": []
    },
    {
      "cell_type": "code",
      "source": [
        "# cliente boto3\n",
        "cliente = boto3.client('kinesis', \n",
        "                       aws_access_key_id = '',\n",
        "                       aws_secret_access_key = '',\n",
        "                       aws_session_token = '',\n",
        "                       region_name = 'us-east-1'\n",
        "                       )"
      ],
      "metadata": {
        "id": "owgadDEIhasO"
      },
      "execution_count": null,
      "outputs": []
    },
    {
      "cell_type": "code",
      "source": [
        "registro = {'idvendedor': '999', 'nome': 'Murilo'}"
      ],
      "metadata": {
        "id": "5LDSM505iH5q"
      },
      "execution_count": null,
      "outputs": []
    },
    {
      "cell_type": "code",
      "source": [
        "resposta = cliente.put_record(\n",
        "    StreamName = 'stream1',\n",
        "    Data = json.dumps(registro),\n",
        "    PartitionKey = '02' # dividr os dados em diferentes chaves\n",
        ")\n",
        "\n",
        "print(resposta)"
      ],
      "metadata": {
        "colab": {
          "base_uri": "https://localhost:8080/"
        },
        "id": "OwO9w91CiSg0",
        "outputId": "8b84ab5a-7bce-4692-d4ef-0c2ecac8ec80"
      },
      "execution_count": null,
      "outputs": [
        {
          "output_type": "stream",
          "name": "stdout",
          "text": [
            "{'ShardId': 'shardId-000000000002', 'SequenceNumber': '49634067578226152648669519086388060069762511365411438626', 'ResponseMetadata': {'RequestId': 'd5c711fb-bfcf-38b2-8e7b-e96bd5d23c73', 'HTTPStatusCode': 200, 'HTTPHeaders': {'x-amzn-requestid': 'd5c711fb-bfcf-38b2-8e7b-e96bd5d23c73', 'x-amz-id-2': 'rYoIfYdeiG9artNbFAs375+tvyQ4HhjncutgjIu1E2k6oIJbMRqgpb+/iG+rDfjBKEBvH7qxHYm8J6tWstl4Cn30wd/8g14U', 'date': 'Sun, 09 Oct 2022 16:26:56 GMT', 'content-type': 'application/x-amz-json-1.1', 'content-length': '110'}, 'RetryAttempts': 0}}\n"
          ]
        }
      ]
    }
  ]
}