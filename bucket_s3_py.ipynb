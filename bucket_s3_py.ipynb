{
  "nbformat": 4,
  "nbformat_minor": 0,
  "metadata": {
    "colab": {
      "provenance": [],
      "collapsed_sections": []
    },
    "kernelspec": {
      "name": "python3",
      "display_name": "Python 3"
    },
    "language_info": {
      "name": "python"
    }
  },
  "cells": [
    {
      "cell_type": "code",
      "execution_count": null,
      "metadata": {
        "id": "f6ocQ8B9Xb_9"
      },
      "outputs": [],
      "source": [
        "# biblioca para conectar-se ao postgres\n",
        "import psycopg2"
      ]
    },
    {
      "cell_type": "code",
      "source": [
        "# String de conexão\n",
        "con = psycopg2.connect(host='database-1.ch6ro0aeu2xx.us-east-1.rds.amazonaws.com',\n",
        "                       database='postgres',\n",
        "                       user='postgres',\n",
        "                       password='12345678'\n",
        "                       )\n",
        "# transacoes seja autocommitada automaticamente\n",
        "con.autocommit = True\n",
        "\n",
        "# cursor é um objeto para executar consulta no banco de dados\n",
        "cur = con.cursor()\n",
        "\n",
        "# Instrução que será executada\n",
        "cur.execute('CREATE DATABASE inventario;')\n",
        "\n",
        "\n",
        "# fechando a conexão\n",
        "con.close()"
      ],
      "metadata": {
        "id": "TapLNXGMXjzN"
      },
      "execution_count": null,
      "outputs": []
    },
    {
      "cell_type": "code",
      "source": [
        "# String de conexão\n",
        "con = psycopg2.connect(host='database-1.ch6ro0aeu2xx.us-east-1.rds.amazonaws.com',\n",
        "                       database='inventario',\n",
        "                       user='postgres',\n",
        "                       password='12345678'\n",
        "                       )\n",
        "# transacoes seja autocommitada automaticamente\n",
        "con.autocommit = True\n",
        "\n",
        "# cursor é um objeto para executar consulta no banco de dados\n",
        "cur = con.cursor()\n",
        "\n",
        "# Instrução que será executada\n",
        "cur.execute('CREATE TABLE arquivos (idarquivo INT, nomearquivo VARCHAR(256));')\n",
        "\n",
        "\n",
        "# fechando a conexão\n",
        "con.close()"
      ],
      "metadata": {
        "id": "NIAkNnYuXmco"
      },
      "execution_count": null,
      "outputs": []
    },
    {
      "cell_type": "markdown",
      "source": [
        "### Conectando no bucket S3"
      ],
      "metadata": {
        "id": "VbPzHpRfXo9e"
      }
    },
    {
      "cell_type": "code",
      "source": [
        "!pip install boto3"
      ],
      "metadata": {
        "colab": {
          "base_uri": "https://localhost:8080/"
        },
        "id": "PNzECLtZXsc1",
        "outputId": "2d470497-eb45-48ce-a5c3-3a36bb90529d"
      },
      "execution_count": null,
      "outputs": [
        {
          "output_type": "stream",
          "name": "stdout",
          "text": [
            "Looking in indexes: https://pypi.org/simple, https://us-python.pkg.dev/colab-wheels/public/simple/\n",
            "Collecting boto3\n",
            "  Downloading boto3-1.24.89-py3-none-any.whl (132 kB)\n",
            "\u001b[K     |████████████████████████████████| 132 kB 7.5 MB/s \n",
            "\u001b[?25hCollecting s3transfer<0.7.0,>=0.6.0\n",
            "  Downloading s3transfer-0.6.0-py3-none-any.whl (79 kB)\n",
            "\u001b[K     |████████████████████████████████| 79 kB 7.3 MB/s \n",
            "\u001b[?25hCollecting jmespath<2.0.0,>=0.7.1\n",
            "  Downloading jmespath-1.0.1-py3-none-any.whl (20 kB)\n",
            "Collecting botocore<1.28.0,>=1.27.89\n",
            "  Downloading botocore-1.27.89-py3-none-any.whl (9.2 MB)\n",
            "\u001b[K     |████████████████████████████████| 9.2 MB 53.0 MB/s \n",
            "\u001b[?25hCollecting urllib3<1.27,>=1.25.4\n",
            "  Downloading urllib3-1.26.12-py2.py3-none-any.whl (140 kB)\n",
            "\u001b[K     |████████████████████████████████| 140 kB 68.0 MB/s \n",
            "\u001b[?25hRequirement already satisfied: python-dateutil<3.0.0,>=2.1 in /usr/local/lib/python3.7/dist-packages (from botocore<1.28.0,>=1.27.89->boto3) (2.8.2)\n",
            "Requirement already satisfied: six>=1.5 in /usr/local/lib/python3.7/dist-packages (from python-dateutil<3.0.0,>=2.1->botocore<1.28.0,>=1.27.89->boto3) (1.15.0)\n",
            "Installing collected packages: urllib3, jmespath, botocore, s3transfer, boto3\n",
            "  Attempting uninstall: urllib3\n",
            "    Found existing installation: urllib3 1.24.3\n",
            "    Uninstalling urllib3-1.24.3:\n",
            "      Successfully uninstalled urllib3-1.24.3\n",
            "\u001b[31mERROR: pip's dependency resolver does not currently take into account all the packages that are installed. This behaviour is the source of the following dependency conflicts.\n",
            "requests 2.23.0 requires urllib3!=1.25.0,!=1.25.1,<1.26,>=1.21.1, but you have urllib3 1.26.12 which is incompatible.\u001b[0m\n",
            "Successfully installed boto3-1.24.89 botocore-1.27.89 jmespath-1.0.1 s3transfer-0.6.0 urllib3-1.26.12\n"
          ]
        }
      ]
    },
    {
      "cell_type": "code",
      "source": [
        "import boto3\n",
        "import io # leitura de arquivos\n",
        "import psycopg2"
      ],
      "metadata": {
        "id": "P-RCfPduYGlZ"
      },
      "execution_count": null,
      "outputs": []
    },
    {
      "cell_type": "code",
      "source": [
        "# Interagindo com o bucket S3\n",
        "s3 = boto3.resource(\n",
        "    service_name = 's3',\n",
        "    region_name = 'us-east-1',\n",
        "    aws_access_key_id = '',\n",
        "    aws_secret_access_key = '',\n",
        "    aws_session_token = ''\n",
        ")"
      ],
      "metadata": {
        "id": "NPlg6UHtYHXX"
      },
      "execution_count": null,
      "outputs": []
    },
    {
      "cell_type": "code",
      "source": [
        "# https://prnt.sc/mReAXjm_7NvQ\n",
        "bucket = 'imagensengdados3210'\n",
        "prefix = 'imagens/'"
      ],
      "metadata": {
        "id": "Tz3ZltjJZURN"
      },
      "execution_count": null,
      "outputs": []
    },
    {
      "cell_type": "markdown",
      "source": [
        "### Inserindo dados na tabela"
      ],
      "metadata": {
        "id": "xW8pqAq4d8pS"
      }
    },
    {
      "cell_type": "code",
      "source": [
        "con = psycopg2.connect(host='database-1.ch6ro0aeu2xx.us-east-1.rds.amazonaws.com',\n",
        "                       database='inventario',\n",
        "                       user='postgres',\n",
        "                       password='12345678'\n",
        "                       )\n",
        "con.autocommit = True\n",
        "cur = con.cursor()\n",
        "id = 0\n",
        "\n",
        "# Percorre todos os objetos do prefix\n",
        "for objects_s3 in s3.Bucket(bucket).objects.filter(Prefix=prefix):\n",
        "\n",
        "  # verifica se o arquivo termina com jpg\n",
        "  if objects_s3.key.endswith('jpg') or objects_s3.key.endswith('JPG'):\n",
        "\n",
        "    # armazena a imagem jpg na variavel 'filename'\n",
        "    # remove o 'imagens/' da url da imagem 'imagens/avenue-g9ad8b9b60_640.jpg'\n",
        "    filename = objects_s3.key.split('/')[1]\n",
        "    id+=1\n",
        "    cur.execute(\"INSERT INTO arquivos (idarquivo, nomearquivo) VALUES (\"+str(id)+\",'\"+filename+\"')\")\n",
        "        "
      ],
      "metadata": {
        "id": "-Kl5CAHrZrFF"
      },
      "execution_count": null,
      "outputs": []
    },
    {
      "cell_type": "markdown",
      "source": [
        "### Verificando se os nomes dos arquivos foram inseridos no banco"
      ],
      "metadata": {
        "id": "R21sfVdRdhgq"
      }
    },
    {
      "cell_type": "code",
      "source": [
        "# String de conexão\n",
        "con = psycopg2.connect(host='database-1.ch6ro0aeu2xx.us-east-1.rds.amazonaws.com',\n",
        "                       database='inventario',\n",
        "                       user='postgres',\n",
        "                       password='12345678'\n",
        "                       )\n",
        "# transacoes seja autocommitada automaticamente\n",
        "con.autocommit = True\n",
        "\n",
        "# cursor é um objeto para executar consulta no banco de dados\n",
        "cur = con.cursor()\n",
        "\n",
        "# Instrução que será executada\n",
        "cur.execute('SELECT * FROM arquivos;')\n",
        "\n",
        "# variável que retorna todos os dados da tabela\n",
        "recset = cur.fetchall\n",
        "\n",
        "# percorre cada dado da variavel recset\n",
        "for rec in recset():\n",
        "  print(rec)\n",
        "\n",
        "# fechando a conexão\n",
        "con.close()"
      ],
      "metadata": {
        "colab": {
          "base_uri": "https://localhost:8080/"
        },
        "id": "r9VltTPrdZQR",
        "outputId": "dbf63f8c-b39b-4ecd-9158-a478428fb339"
      },
      "execution_count": null,
      "outputs": [
        {
          "output_type": "stream",
          "name": "stdout",
          "text": [
            "(1, 'avenue-g9ad8b9b60_640.jpg')\n",
            "(2, 'dandelion-ge4c90edd8_640.jpg')\n",
            "(3, 'fantasy-g95f970a56_640.jpg')\n",
            "(4, 'garden-g42e486784_640.jpg')\n",
            "(5, 'pink-ge82d54651_640.jpg')\n",
            "(6, 'road-g37132565b_640.jpg')\n",
            "(7, 'road-g41ea28d46_640.jpg')\n",
            "(8, 'sunset-gac16749a1_640.jpg')\n",
            "(9, 'tree-g386d6021c_640.jpg')\n",
            "(10, 'tree-gd34ff2fcb_640.jpg')\n"
          ]
        }
      ]
    }
  ]
}