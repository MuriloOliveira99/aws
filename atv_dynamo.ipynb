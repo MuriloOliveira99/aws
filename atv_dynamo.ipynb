{
  "nbformat": 4,
  "nbformat_minor": 0,
  "metadata": {
    "colab": {
      "name": "atv_dynamo.ipynb",
      "provenance": [],
      "collapsed_sections": []
    },
    "kernelspec": {
      "name": "python3",
      "display_name": "Python 3"
    },
    "language_info": {
      "name": "python"
    }
  },
  "cells": [
    {
      "cell_type": "markdown",
      "metadata": {
        "id": "3p_3yKLTFkAV"
      },
      "source": [
        "Objetivo:\n",
        "API -> DYNAMO\n",
        "\n",
        "API -> S3\n",
        "\n",
        "Consultar as APIs e gravar os dados nos recursos s3 e DynamoDB da AWS. Via API (utilizando Python).\n"
      ]
    },
    {
      "cell_type": "code",
      "metadata": {
        "id": "lxEoH8b6m7md",
        "colab": {
          "base_uri": "https://localhost:8080/"
        },
        "outputId": "cab36378-6f4e-4734-9bb2-01519840b585"
      },
      "source": [
        "%%sh\n",
        "sudo pip install s3fs\n",
        "sudo pip install boto3"
      ],
      "execution_count": null,
      "outputs": [
        {
          "output_type": "stream",
          "name": "stdout",
          "text": [
            "Collecting s3fs\n",
            "  Downloading s3fs-2022.3.0-py3-none-any.whl (26 kB)\n",
            "Collecting fsspec==2022.3.0\n",
            "  Downloading fsspec-2022.3.0-py3-none-any.whl (136 kB)\n",
            "Collecting aiobotocore~=2.2.0\n",
            "  Downloading aiobotocore-2.2.0.tar.gz (59 kB)\n",
            "Collecting aiohttp<=4\n",
            "  Downloading aiohttp-3.8.1-cp37-cp37m-manylinux_2_5_x86_64.manylinux1_x86_64.manylinux_2_12_x86_64.manylinux2010_x86_64.whl (1.1 MB)\n",
            "Collecting botocore<1.24.22,>=1.24.21\n",
            "  Downloading botocore-1.24.21-py3-none-any.whl (8.6 MB)\n",
            "Requirement already satisfied: wrapt>=1.10.10 in /usr/local/lib/python3.7/dist-packages (from aiobotocore~=2.2.0->s3fs) (1.14.0)\n",
            "Collecting aioitertools>=0.5.1\n",
            "  Downloading aioitertools-0.10.0-py3-none-any.whl (23 kB)\n",
            "Collecting multidict<7.0,>=4.5\n",
            "  Downloading multidict-6.0.2-cp37-cp37m-manylinux_2_17_x86_64.manylinux2014_x86_64.whl (94 kB)\n",
            "Requirement already satisfied: charset-normalizer<3.0,>=2.0 in /usr/local/lib/python3.7/dist-packages (from aiohttp<=4->s3fs) (2.0.12)\n",
            "Requirement already satisfied: typing-extensions>=3.7.4 in /usr/local/lib/python3.7/dist-packages (from aiohttp<=4->s3fs) (4.2.0)\n",
            "Collecting asynctest==0.13.0\n",
            "  Downloading asynctest-0.13.0-py3-none-any.whl (26 kB)\n",
            "Requirement already satisfied: attrs>=17.3.0 in /usr/local/lib/python3.7/dist-packages (from aiohttp<=4->s3fs) (21.4.0)\n",
            "Collecting frozenlist>=1.1.1\n",
            "  Downloading frozenlist-1.3.0-cp37-cp37m-manylinux_2_5_x86_64.manylinux1_x86_64.manylinux_2_17_x86_64.manylinux2014_x86_64.whl (144 kB)\n",
            "Collecting aiosignal>=1.1.2\n",
            "  Downloading aiosignal-1.2.0-py3-none-any.whl (8.2 kB)\n",
            "Collecting async-timeout<5.0,>=4.0.0a3\n",
            "  Downloading async_timeout-4.0.2-py3-none-any.whl (5.8 kB)\n",
            "Collecting yarl<2.0,>=1.0\n",
            "  Downloading yarl-1.7.2-cp37-cp37m-manylinux_2_5_x86_64.manylinux1_x86_64.manylinux_2_12_x86_64.manylinux2010_x86_64.whl (271 kB)\n",
            "Collecting jmespath<2.0.0,>=0.7.1\n",
            "  Downloading jmespath-1.0.0-py3-none-any.whl (23 kB)\n",
            "Collecting urllib3<1.27,>=1.25.4\n",
            "  Downloading urllib3-1.26.9-py2.py3-none-any.whl (138 kB)\n",
            "Requirement already satisfied: python-dateutil<3.0.0,>=2.1 in /usr/local/lib/python3.7/dist-packages (from botocore<1.24.22,>=1.24.21->aiobotocore~=2.2.0->s3fs) (2.8.2)\n",
            "Requirement already satisfied: six>=1.5 in /usr/local/lib/python3.7/dist-packages (from python-dateutil<3.0.0,>=2.1->botocore<1.24.22,>=1.24.21->aiobotocore~=2.2.0->s3fs) (1.15.0)\n",
            "Requirement already satisfied: idna>=2.0 in /usr/local/lib/python3.7/dist-packages (from yarl<2.0,>=1.0->aiohttp<=4->s3fs) (2.10)\n",
            "Building wheels for collected packages: aiobotocore\n",
            "  Building wheel for aiobotocore (setup.py): started\n",
            "  Building wheel for aiobotocore (setup.py): finished with status 'done'\n",
            "  Created wheel for aiobotocore: filename=aiobotocore-2.2.0-py3-none-any.whl size=57108 sha256=53ac2c730f348c826f7f4be0a1d99901afd3be21c892892fac166d3624a52708\n",
            "  Stored in directory: /root/.cache/pip/wheels/5f/c1/90/d81f357ee479228ab98b7558b6a6af12234e5ee9c29ab5c16f\n",
            "Successfully built aiobotocore\n",
            "Installing collected packages: multidict, frozenlist, yarl, urllib3, jmespath, asynctest, async-timeout, aiosignal, botocore, aioitertools, aiohttp, fsspec, aiobotocore, s3fs\n",
            "  Attempting uninstall: urllib3\n",
            "    Found existing installation: urllib3 1.24.3\n",
            "    Uninstalling urllib3-1.24.3:\n",
            "      Successfully uninstalled urllib3-1.24.3\n",
            "Successfully installed aiobotocore-2.2.0 aiohttp-3.8.1 aioitertools-0.10.0 aiosignal-1.2.0 async-timeout-4.0.2 asynctest-0.13.0 botocore-1.24.21 frozenlist-1.3.0 fsspec-2022.3.0 jmespath-1.0.0 multidict-6.0.2 s3fs-2022.3.0 urllib3-1.26.9 yarl-1.7.2\n",
            "Collecting boto3\n",
            "  Downloading boto3-1.22.1-py3-none-any.whl (132 kB)\n",
            "Collecting s3transfer<0.6.0,>=0.5.0\n",
            "  Downloading s3transfer-0.5.2-py3-none-any.whl (79 kB)\n",
            "Collecting botocore<1.26.0,>=1.25.1\n",
            "  Downloading botocore-1.25.2-py3-none-any.whl (8.7 MB)\n",
            "Requirement already satisfied: jmespath<2.0.0,>=0.7.1 in /usr/local/lib/python3.7/dist-packages (from boto3) (1.0.0)\n",
            "Requirement already satisfied: urllib3<1.27,>=1.25.4 in /usr/local/lib/python3.7/dist-packages (from botocore<1.26.0,>=1.25.1->boto3) (1.26.9)\n",
            "Requirement already satisfied: python-dateutil<3.0.0,>=2.1 in /usr/local/lib/python3.7/dist-packages (from botocore<1.26.0,>=1.25.1->boto3) (2.8.2)\n",
            "Requirement already satisfied: six>=1.5 in /usr/local/lib/python3.7/dist-packages (from python-dateutil<3.0.0,>=2.1->botocore<1.26.0,>=1.25.1->boto3) (1.15.0)\n",
            "Installing collected packages: botocore, s3transfer, boto3\n",
            "  Attempting uninstall: botocore\n",
            "    Found existing installation: botocore 1.24.21\n",
            "    Uninstalling botocore-1.24.21:\n",
            "      Successfully uninstalled botocore-1.24.21\n",
            "Successfully installed boto3-1.22.1 botocore-1.25.2 s3transfer-0.5.2\n"
          ]
        },
        {
          "output_type": "stream",
          "name": "stderr",
          "text": [
            "ERROR: pip's dependency resolver does not currently take into account all the packages that are installed. This behaviour is the source of the following dependency conflicts.\n",
            "requests 2.23.0 requires urllib3!=1.25.0,!=1.25.1,<1.26,>=1.21.1, but you have urllib3 1.26.9 which is incompatible.\n",
            "datascience 0.10.6 requires folium==0.2.1, but you have folium 0.8.3 which is incompatible.\n",
            "ERROR: pip's dependency resolver does not currently take into account all the packages that are installed. This behaviour is the source of the following dependency conflicts.\n",
            "aiobotocore 2.2.0 requires botocore<1.24.22,>=1.24.21, but you have botocore 1.25.2 which is incompatible.\n"
          ]
        }
      ]
    },
    {
      "cell_type": "code",
      "metadata": {
        "id": "Fx0KvJJ76TTs",
        "colab": {
          "base_uri": "https://localhost:8080/"
        },
        "outputId": "835ec3f6-0e83-4cab-ccb4-219b0000b026"
      },
      "source": [
        "#import das bibliotecas\n",
        "import json,s3fs,boto3,requests as r\n",
        "from decimal import Decimal"
      ],
      "execution_count": null,
      "outputs": [
        {
          "output_type": "stream",
          "name": "stderr",
          "text": [
            "/usr/local/lib/python3.7/dist-packages/requests/__init__.py:91: RequestsDependencyWarning: urllib3 (1.26.9) or chardet (3.0.4) doesn't match a supported version!\n",
            "  RequestsDependencyWarning)\n"
          ]
        }
      ]
    },
    {
      "cell_type": "code",
      "metadata": {
        "id": "8jzkIp4_bGYC"
      },
      "source": [
        "#Chaves de acesso AWS\n",
        "aws_access_key_id = ''\n",
        "aws_secret_access_key = ''\n",
        "aws_session_token = ''"
      ],
      "execution_count": null,
      "outputs": []
    },
    {
      "cell_type": "code",
      "metadata": {
        "id": "v3MSIN9L6Ssw"
      },
      "source": [
        "#Client s3\n",
        "client_s3 = boto3.client('s3', aws_access_key_id=aws_access_key_id,\n",
        "                      aws_secret_access_key=aws_secret_access_key,\n",
        "                      aws_session_token=aws_session_token, use_ssl=False)\n",
        "#s3fs\n",
        "sf = s3fs.S3FileSystem(key =aws_access_key_id,\n",
        "                       secret=aws_secret_access_key,\n",
        "                       token =aws_session_token)"
      ],
      "execution_count": null,
      "outputs": []
    },
    {
      "cell_type": "code",
      "metadata": {
        "id": "JijUU9-K7ErL",
        "colab": {
          "base_uri": "https://localhost:8080/"
        },
        "outputId": "d56a6b97-2289-48b3-e043-9e84b69a2f49"
      },
      "source": [
        "#Criar bucket\n",
        "bucket_space = 'spacex-2102100'\n",
        "client_s3.create_bucket(Bucket=bucket_space)"
      ],
      "execution_count": null,
      "outputs": [
        {
          "output_type": "execute_result",
          "data": {
            "text/plain": [
              "{'Location': '/spacex-2102100',\n",
              " 'ResponseMetadata': {'HTTPHeaders': {'content-length': '0',\n",
              "   'date': 'Thu, 28 Apr 2022 00:05:55 GMT',\n",
              "   'location': '/spacex-2102100',\n",
              "   'server': 'AmazonS3',\n",
              "   'x-amz-id-2': 'is22LevjdKyN1IurGCjzT4Pxn8NTLmsxPaOhN7fYXC5+oH/8So8Jk6pecr3RHfay9w7SD9RtC28=',\n",
              "   'x-amz-request-id': '53ABZFKYMD6EG7PD'},\n",
              "  'HTTPStatusCode': 200,\n",
              "  'HostId': 'is22LevjdKyN1IurGCjzT4Pxn8NTLmsxPaOhN7fYXC5+oH/8So8Jk6pecr3RHfay9w7SD9RtC28=',\n",
              "  'RequestId': '53ABZFKYMD6EG7PD',\n",
              "  'RetryAttempts': 0}}"
            ]
          },
          "metadata": {},
          "execution_count": 32
        }
      ]
    },
    {
      "cell_type": "code",
      "metadata": {
        "id": "AdVH57ju6mIq"
      },
      "source": [
        "#Resource dynamo\n",
        "dynamodb = boto3.resource('dynamodb', aws_access_key_id=aws_access_key_id,\n",
        "                      aws_secret_access_key=aws_secret_access_key,\n",
        "                      aws_session_token=aws_session_token,\n",
        "                      region_name = \"us-east-1\", use_ssl=False)"
      ],
      "execution_count": null,
      "outputs": []
    },
    {
      "cell_type": "code",
      "metadata": {
        "id": "WLCg_cBn7XJA",
        "colab": {
          "base_uri": "https://localhost:8080/"
        },
        "outputId": "c1e292ef-8766-4c91-cb31-e8c3c0f41241"
      },
      "source": [
        "#Criação da tabela capsule\n",
        "capsule = 'capsule' #nome da tabela\n",
        "params = {\n",
        "        'TableName': capsule, \n",
        "        #Esquema das chaves\n",
        "        'KeySchema': [\n",
        "            {'AttributeName': 'capsule_serial', 'KeyType': 'HASH'}, # hash será a chave primaria\n",
        "            {'AttributeName': 'capsule_id', 'KeyType': 'RANGE'} #range, não obrigatória, formaria uma chave composta\n",
        "        ],\n",
        "        #Tipo de dados da chave\n",
        "        'AttributeDefinitions': [ \n",
        "            {'AttributeName': 'capsule_serial', 'AttributeType': 'S'}, #S de string\n",
        "            {'AttributeName': 'capsule_id', 'AttributeType': 'S'} #N de Number\n",
        "        ],\n",
        "        #Configuração de escrita e leitura por segundo\n",
        "        'ProvisionedThroughput': {\n",
        "            'ReadCapacityUnits': 3,\n",
        "            'WriteCapacityUnits': 3\n",
        "        }\n",
        "    }\n",
        "dynamodb.create_table(**params)"
      ],
      "execution_count": null,
      "outputs": [
        {
          "output_type": "execute_result",
          "data": {
            "text/plain": [
              "dynamodb.Table(name='capsule')"
            ]
          },
          "metadata": {},
          "execution_count": 34
        }
      ]
    },
    {
      "cell_type": "code",
      "source": [
        "#Criação da tabela rocket\n",
        "rocket = 'rocket' #nome da tabela\n",
        "params = {\n",
        "        'TableName': rocket, \n",
        "        #Esquema das chaves\n",
        "        'KeySchema': [\n",
        "            {'AttributeName': 'id', 'KeyType': 'HASH'}, # hash será a chave primaria \n",
        "        ],\n",
        "        #Tipo de dados da chave\n",
        "        'AttributeDefinitions': [ \n",
        "            {'AttributeName': 'id', 'AttributeType': 'N'}, #S de string\n",
        "        ],\n",
        "        #Configuração de escrita e leitura por segundo\n",
        "        'ProvisionedThroughput': {\n",
        "            'ReadCapacityUnits': 3,\n",
        "            'WriteCapacityUnits': 3\n",
        "        }\n",
        "    }\n",
        "dynamodb.create_table(**params)"
      ],
      "metadata": {
        "colab": {
          "base_uri": "https://localhost:8080/"
        },
        "id": "oUFT9EqzL03L",
        "outputId": "ddf3fc23-b645-424e-8efb-fc83ce1d6b44"
      },
      "execution_count": null,
      "outputs": [
        {
          "output_type": "execute_result",
          "data": {
            "text/plain": [
              "dynamodb.Table(name='rocket')"
            ]
          },
          "metadata": {},
          "execution_count": 35
        }
      ]
    },
    {
      "cell_type": "code",
      "source": [
        "#Criação da tabela dragon\n",
        "dragon = 'dragon' #nome da tabela\n",
        "params = {\n",
        "        'TableName': dragon, \n",
        "        #Esquema das chaves\n",
        "        'KeySchema': [\n",
        "            {'AttributeName': 'id', 'KeyType': 'HASH'}, # hash será a chave primaria\n",
        "            {'AttributeName': 'name', 'KeyType': 'RANGE'} #range, não obrigatória, formaria uma chave composta\n",
        "        ],\n",
        "        #Tipo de dados da chave\n",
        "        'AttributeDefinitions': [ \n",
        "            {'AttributeName': 'id', 'AttributeType': 'S'}, #S de string\n",
        "            {'AttributeName': 'name', 'AttributeType': 'S'} #N de Number\n",
        "        ],\n",
        "        #Configuração de escrita e leitura por segundo\n",
        "        'ProvisionedThroughput': {\n",
        "            'ReadCapacityUnits': 3,\n",
        "            'WriteCapacityUnits': 3\n",
        "        }\n",
        "    }\n",
        "dynamodb.create_table(**params)"
      ],
      "metadata": {
        "colab": {
          "base_uri": "https://localhost:8080/"
        },
        "id": "1KUyeAUVNWc7",
        "outputId": "f5002ccb-7479-44ac-fde9-ea01775e53cb"
      },
      "execution_count": null,
      "outputs": [
        {
          "output_type": "execute_result",
          "data": {
            "text/plain": [
              "dynamodb.Table(name='dragon')"
            ]
          },
          "metadata": {},
          "execution_count": 36
        }
      ]
    },
    {
      "cell_type": "markdown",
      "source": [
        "## Usando a API Capsules"
      ],
      "metadata": {
        "id": "JbdUehsmQ5ng"
      }
    },
    {
      "cell_type": "code",
      "metadata": {
        "id": "OXZqHBDV6sZO"
      },
      "source": [
        "#Buscar tabela capsule no Dynamo\n",
        "capsule_dynamo = dynamodb.Table('capsule')"
      ],
      "execution_count": null,
      "outputs": []
    },
    {
      "cell_type": "code",
      "metadata": {
        "id": "_A-lZRfDbLC-"
      },
      "source": [
        "#Busca dados na api através da lib requests.\n",
        "url_capsules = 'https://api.spacexdata.com/v3/capsules'\n",
        "dados = r.get(url_capsules)\n",
        "j_capsules = json.loads(dados.text,parse_float=Decimal)"
      ],
      "execution_count": null,
      "outputs": []
    },
    {
      "cell_type": "code",
      "metadata": {
        "id": "nRhFpLli8POT"
      },
      "source": [
        "#Grava dados no bucket do s3 - informar o nome do bucket e o caminho \n",
        "diretorio_capsules = 'capsules/capsules.json' #diretorio/nome_arquivo.json\n",
        "caminho_capsules = bucket_space + '/' + diretorio_capsules\n",
        "with sf.open(caminho_capsules,'w') as f:\n",
        "  #dump é o comando para gravar o dado\n",
        "    json.dump(j_capsules,f)\n",
        "    from decimal import Decimal\n",
        "    json.loads(dados.text,parse_float=Decimal)"
      ],
      "execution_count": null,
      "outputs": []
    },
    {
      "cell_type": "code",
      "metadata": {
        "id": "e7QTD-QxUmfK"
      },
      "source": [
        "#Insere dados no dynamodb\n",
        "#Faz um \"for\" no json e vai inserindo registro a registro\n",
        "for i in j_capsules:\n",
        "  capsule_dynamo.put_item(\n",
        "      Item=i\n",
        "      )"
      ],
      "execution_count": null,
      "outputs": []
    },
    {
      "cell_type": "markdown",
      "source": [
        "## Usando a API Rocket"
      ],
      "metadata": {
        "id": "Qzb8qw4FRTTN"
      }
    },
    {
      "cell_type": "code",
      "source": [
        "#Buscar tabela rocket no Dynamo\n",
        "rocket_dynamo = dynamodb.Table('rocket')"
      ],
      "metadata": {
        "id": "Cv5ij4O7RZx0"
      },
      "execution_count": null,
      "outputs": []
    },
    {
      "cell_type": "code",
      "source": [
        "#Busca dados na api através da lib requests.\n",
        "from decimal import Decimal\n",
        "url_rocket = 'https://api.spacexdata.com/v3/rockets'\n",
        "dados = r.get(url_rocket)\n",
        "j_rocket = json.loads(dados.text,parse_float=Decimal)"
      ],
      "metadata": {
        "id": "7uYgvfKlRf6U"
      },
      "execution_count": null,
      "outputs": []
    },
    {
      "cell_type": "code",
      "source": [
        "#Grava dados no bucket do s3 - informar o nome do bucket e o caminho \n",
        "diretorio_rocket = 'rockets/rockets.json' #diretorio/nome_arquivo.json\n",
        "caminho_rocket = bucket_space + '/' + diretorio_rocket\n",
        "j = json.loads(dados.text)\n",
        "with sf.open(caminho_rocket,'w') as f:\n",
        "  json.dump(j,f)\n",
        "  \n",
        "#dump é o comando para gravar o dado"
      ],
      "metadata": {
        "id": "vDpa9KlQRmTP"
      },
      "execution_count": null,
      "outputs": []
    },
    {
      "cell_type": "code",
      "source": [
        "#Insere dados no dynamodb\n",
        "#Faz um \"for\" no json e vai inserindo registro a registro\n",
        "url_rocket = 'https://api.spacexdata.com/v3/rockets'\n",
        "dados = r.get(url_rocket)\n",
        "j_rocket = json.loads(dados.text,parse_float=Decimal)\n",
        "for i in j_rocket:\n",
        "  rocket_dynamo.put_item(\n",
        "      Item=i\n",
        ")"
      ],
      "metadata": {
        "id": "hoYfJOQoRsxB"
      },
      "execution_count": null,
      "outputs": []
    },
    {
      "cell_type": "markdown",
      "source": [
        "##USANDO a API Dragon"
      ],
      "metadata": {
        "id": "OM7UXtd8cZV3"
      }
    },
    {
      "cell_type": "code",
      "source": [
        "#Buscar tabela rocket no Dynamo\n",
        "dragon_dynamo = dynamodb.Table('dragon')"
      ],
      "metadata": {
        "id": "sTMN0SkQcayA"
      },
      "execution_count": null,
      "outputs": []
    },
    {
      "cell_type": "code",
      "source": [
        "#Busca dados na api através da lib requests.\n",
        "url_dragon = 'https://api.spacexdata.com/v3/dragons'\n",
        "dados = r.get(url_dragon)\n",
        "j_dragon = json.loads(dados.text,parse_float=Decimal)"
      ],
      "metadata": {
        "id": "S4Q0Gpd6cfOd"
      },
      "execution_count": null,
      "outputs": []
    },
    {
      "cell_type": "code",
      "source": [
        "#Grava dados no bucket do s3 - informar o nome do bucket e o caminho \n",
        "diretorio_dragon = 'dragons/dragons.json' #diretorio/nome_arquivo.json\n",
        "caminho_dragon = bucket_space + '/' + diretorio_dragon\n",
        "j = json.loads(dados.text)\n",
        "with sf.open(caminho_dragon,'w') as f:\n",
        "  json.dump(j,f)\n",
        "  "
      ],
      "metadata": {
        "id": "tcqmWqCNcrtv"
      },
      "execution_count": null,
      "outputs": []
    },
    {
      "cell_type": "code",
      "source": [
        "url_dragon = 'https://api.spacexdata.com/v3/dragons'\n",
        "dados = r.get(url_dragon)\n",
        "j_dragon = json.loads(dados.text,parse_float=Decimal)\n",
        "for i in j_dragon:\n",
        "  dragon_dynamo.put_item(\n",
        "      Item=i\n",
        ")"
      ],
      "metadata": {
        "id": "GW1PAT5ad87f"
      },
      "execution_count": null,
      "outputs": []
    }
  ]
}